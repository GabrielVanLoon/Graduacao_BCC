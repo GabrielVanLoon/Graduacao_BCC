{
 "cells": [
  {
   "cell_type": "markdown",
   "id": "f0d7597f",
   "metadata": {},
   "source": [
    "# Exercício Aula 08 - Classificando Modelos de Redes\n",
    "\n",
    "Autores:\n",
    "\n",
    "- Gabriel Van Loon\n",
    "- Mathias Fernandes \n",
    "\n",
    "Prof.:  Francisco Aparecido Rodrigues\n",
    "\n",
    "Universidade de São Paulo, São Carlos, Brasil."
   ]
  },
  {
   "cell_type": "code",
   "execution_count": 17,
   "id": "63c3a1bb",
   "metadata": {},
   "outputs": [],
   "source": [
    "import collections\n",
    "import numpy as np\n",
    "import matplotlib.pyplot as plt\n",
    "import networkx as nx\n",
    "import time\n",
    "\n",
    "from scipy.stats import pearsonr, spearmanr\n",
    "\n",
    "from sklearn.neighbors import KNeighborsClassifier\n",
    "from sklearn.preprocessing import StandardScaler\n",
    "\n",
    "from networkx.algorithms import community, centrality\n",
    "from networkx.algorithms.community import greedy_modularity_communities\n",
    "from community import community_louvain\n",
    "\n",
    "from sklearn.decomposition import PCA"
   ]
  },
  {
   "cell_type": "code",
   "execution_count": 18,
   "id": "9666d58a",
   "metadata": {},
   "outputs": [],
   "source": [
    "def momment_of_degree_distribution(G,m):\n",
    "    M, N = 0, len(G)\n",
    "    for i in G.nodes: M = M + G.degree(i)**m\n",
    "    return M/N"
   ]
  },
  {
   "cell_type": "code",
   "execution_count": 19,
   "id": "c6b614e2",
   "metadata": {},
   "outputs": [],
   "source": [
    "def pre_proccess_network(G, verbose=False):\n",
    "    if verbose: print(\"[ ] Pre-Proccessing network...\")\n",
    "    G = G.to_undirected()  # Grafo não direcionado\n",
    "    G.remove_edges_from(nx.selfloop_edges(G)) # Remover auto-loops\n",
    "    Gcc = sorted(nx.connected_components(G), key=len, reverse=True)  # Escolhe maior componente\n",
    "    G = G.subgraph(Gcc[0])\n",
    "    G = nx.convert_node_labels_to_integers(G, first_label=0)  # Renomeia os vértices\n",
    "    return G"
   ]
  },
  {
   "cell_type": "code",
   "execution_count": 20,
   "id": "d36f55a5",
   "metadata": {},
   "outputs": [],
   "source": [
    "def load_network(dataset_path, delimiter=\",\"):\n",
    "    \"\"\"\n",
    "    Carrega uma network vinda de um dataset e realiza os seguintes pré-processamentos:\n",
    "    - Extração do maior componente da rede;\n",
    "    - Remoção de pesos das arestas e auto-loops;\n",
    "    - Transformação p/ grafo não direcionado.\n",
    "    \n",
    "    Return:\n",
    "    - G: loaded graph object\n",
    "    - N: Number of nodes in G\n",
    "    - k: average degree of the network\n",
    "    \"\"\"\n",
    "    print(\"[ ] Loading network at\", dataset_path, \"...\")\n",
    "    G = nx.read_edgelist(dataset_path, nodetype=int, delimiter=delimiter)\n",
    "    G = pre_proccess_network(G, verbose=True)\n",
    "    return G, G.order(), (2*G.number_of_edges())/G.order()"
   ]
  },
  {
   "cell_type": "markdown",
   "id": "d1744785",
   "metadata": {},
   "source": [
    "### Medidas selecionadas\n",
    "\n",
    "Para prever qual modelo se adequa mais a rede, escolhemos diversas medidas conhecidas, como conectividade e centralidade. Essa decisão é baseada na recomendação do artigo [1] \"However, if there is little\n",
    "information about the network structure, the best choice is to consider a large set of models\n",
    "and measurements; otherwise, the classification may not be accurate.\"\n",
    "\n",
    "\n",
    "Conectividade: vertex degree, average neighbor connectivity, clustering coefficient, and assortative coefficient.\n",
    "\n",
    "Centralidade: betweenness centrality, degree centrality, closeness centrality, core number and others.\n",
    "\n",
    "Posteriormente, as medidas de centralidade foram comantadas, devido ao enorme tempo de execução."
   ]
  },
  {
   "cell_type": "code",
   "execution_count": 21,
   "id": "8b8b6b40",
   "metadata": {},
   "outputs": [],
   "source": [
    "def feature_extraction(G, verbose=False):\n",
    "    if verbose: print(\"[ ] Feature Extraction Start...\")\n",
    "    features = []\n",
    "    \n",
    "    # Network measures\n",
    "    if verbose: print(\"[+]    Network measures...\")\n",
    "    k1, k2 = momment_of_degree_distribution(G,1), momment_of_degree_distribution(G,2)\n",
    "    features.append(k1)\n",
    "    features.append(k2)\n",
    "    features.append(k1 - (k2**2))\n",
    "    features.append(nx.average_clustering(G))\n",
    "    features.append(nx.average_shortest_path_length(G))\n",
    "    features.append(nx.degree_assortativity_coefficient(G))\n",
    "    \n",
    "    #features.append(nx.transitivity(G))\n",
    "    #features.append(nx.diameter(G))\n",
    "    \n",
    "    # Centrality Measures (Need to fix)\n",
    "    if verbose: print(\"[+]    Network centrality measures...\")\n",
    "    #features.append(np.mean(list(dict(nx.betweenness_centrality(G)).values())))\n",
    "    #features.append(np.mean(list(dict(nx.degree_centrality(G)).values())))\n",
    "    #features.append(np.mean(list(dict(nx.closeness_centrality(G)).values())))\n",
    "    #features.append(np.mean(list(dict(nx.core_number(G)).values())))\n",
    "    # features.append(np.mean(list(dict(nx.eigenvector_centrality(G, max_iter=100)).values())))\n",
    "    \n",
    "    return features"
   ]
  },
  {
   "cell_type": "code",
   "execution_count": 22,
   "id": "75247e3f",
   "metadata": {},
   "outputs": [],
   "source": [
    "labels = {\"ER\": 1, \"WS\": 2, \"BA\": 3}\n",
    "def generate_models_features(N, k, qtd=30):\n",
    "    print(\"[ ] Generating models...\")\n",
    "    x, y = [], []\n",
    "    \n",
    "    # Generate Random Graphs (Erdos-Renyi)\n",
    "    print(\"[+]    Erdos-Renyi (Random Graphs)...\")\n",
    "    for i in range(qtd):\n",
    "        G = nx.gnp_random_graph(N, k/N, seed=None, directed=False)\n",
    "        G = pre_proccess_network(G)\n",
    "        x.append(feature_extraction(G))\n",
    "        y.append(labels[\"ER\"])\n",
    "    \n",
    "    # Generate Watts Strogatz Networks\n",
    "    print(\"[+]    Watts Strogatz Networks...\")\n",
    "    for i in range(qtd):\n",
    "        G = nx.watts_strogatz_graph(N, int(k), p=0.1, seed=None)\n",
    "        G = pre_proccess_network(G)\n",
    "        x.append(feature_extraction(G))\n",
    "        y.append(labels[\"WS\"])\n",
    "        \n",
    "    # Generate Barabasi Albert Networks\n",
    "    print(\"[+]    Barabasi Albert Networks...\")\n",
    "    for i in range(qtd):\n",
    "        G = nx.barabasi_albert_graph(N, int(k//2))\n",
    "        G = pre_proccess_network(G)\n",
    "        x.append(feature_extraction(G))\n",
    "        y.append(labels[\"BA\"])\n",
    "        \n",
    "    return np.array(x), np.array(y, dtype=np.uint8)"
   ]
  },
  {
   "cell_type": "code",
   "execution_count": 34,
   "id": "94343e87",
   "metadata": {},
   "outputs": [],
   "source": [
    "def model_predict(x_target, x, y, dim_reduction, neighbors=5):\n",
    "    print(\"[ ] Starting classifier and scaler...\")\n",
    "    \n",
    "    # Starting Scaller and scale \n",
    "    scaler = StandardScaler().fit(x)\n",
    "    x      = scaler.transform(x)\n",
    "    x_target = scaler.transform(x_target.reshape((1, -1)))\n",
    "    \n",
    "    # Apply Dimensionality Reduction\n",
    "    if dim_reduction:\n",
    "        pca = PCA(0.95)\n",
    "        pca.fit(x)\n",
    "        x = pca.transform(x)\n",
    "        x_target = pca.transform(x_target)\n",
    "        \n",
    "        # Extract the most important variables\n",
    "        n_pcs= pca.components_.shape[0]\n",
    "        most_important = [np.abs(pca.components_[i]).argmax() for i in range(n_pcs)]\n",
    "        initial_feature_names = ['k1','k2','Var k','Avg Cluster','Avg SPL', 'Assortativity Coefficient']\n",
    "        most_important_names = [initial_feature_names[most_important[i]] for i in range(n_pcs)]\n",
    "        \n",
    "        print(\"[+]    The importance of each variable for PC\")\n",
    "        for i in range(n_pcs):\n",
    "            print(\"[+]    PC{0} - {1} - {2}.\".format(i, most_important_names[i], round(pca.explained_variance_ratio_[i], 2)))\n",
    "\n",
    "            \n",
    "    # Use K-neighboors to classify x_target\n",
    "    model = KNeighborsClassifier(n_neighbors=neighbors, metric='euclidean')\n",
    "    model.fit(x,y)\n",
    "    \n",
    "    return model.predict(x_target),  model.predict_proba(x_target)"
   ]
  },
  {
   "cell_type": "code",
   "execution_count": 24,
   "id": "32a63031",
   "metadata": {},
   "outputs": [],
   "source": [
    "def pipeline(network_path, dim_reduction=False, delimiter=\",\"):\n",
    "    start = time.time()\n",
    "    G, N, k = load_network(network_path, delimiter=delimiter)\n",
    "    print(\"[+]    Network Order: \", N)\n",
    "    print(\"[+]    Network Avg Degree: \",k)\n",
    "    x_target = np.array(feature_extraction(G, verbose=True))\n",
    "    x, y       = generate_models_features(N, k, qtd=30)\n",
    "    y_pred, y_probs = model_predict(x_target, x, y, dim_reduction, neighbors=5)\n",
    "    print(\"[+]    Network Class: \", y_pred)\n",
    "    print(\"[+]    Distribution:  \", y_probs)\n",
    "    print(\"[ ] Elapsed time:\", time.time() - start)\n",
    "    "
   ]
  },
  {
   "cell_type": "code",
   "execution_count": 9,
   "id": "6e7e5c0e",
   "metadata": {},
   "outputs": [
    {
     "name": "stdout",
     "output_type": "stream",
     "text": [
      "[ ] Loading network at data_classify/bio_budapest_male_20k/edges2.csv ...\n",
      "[ ] Pre-Proccessing network...\n",
      "[+]    Network Order:  1015\n",
      "[+]    Network Avg Degree:  105.58817733990148\n",
      "[ ] Feature Extraction Start...\n",
      "[+]    Network measures...\n",
      "[+]    Network centrality measures...\n",
      "[ ] Generating models...\n",
      "[+]    Erdos-Renyi (Random Graphs)...\n",
      "[+]    Watts Strogatz Networks...\n",
      "[+]    Barabasi Albert Networks...\n",
      "[ ] Starting classifier and scaler...\n",
      "[+]    Network Class:  [2]\n",
      "[+]    Distribution:   [[0. 1. 0.]]\n",
      "[ ] Elapsed time: 352.15787744522095\n"
     ]
    }
   ],
   "source": [
    "pipeline(\"data_classify/bio_budapest_male_20k/edges2.csv\", delimiter=\",\")"
   ]
  },
  {
   "cell_type": "code",
   "execution_count": 10,
   "id": "07e232d9",
   "metadata": {},
   "outputs": [
    {
     "name": "stdout",
     "output_type": "stream",
     "text": [
      "[ ] Loading network at data_classify/bio_interactome/edges2.csv ...\n",
      "[ ] Pre-Proccessing network...\n",
      "[+]    Network Order:  1458\n",
      "[+]    Network Avg Degree:  2.672153635116598\n",
      "[ ] Feature Extraction Start...\n",
      "[+]    Network measures...\n",
      "[+]    Network centrality measures...\n",
      "[ ] Generating models...\n",
      "[+]    Erdos-Renyi (Random Graphs)...\n",
      "[+]    Watts Strogatz Networks...\n",
      "[+]    Barabasi Albert Networks...\n",
      "[ ] Starting classifier and scaler...\n",
      "[+]    Network Class:  [1]\n",
      "[+]    Distribution:   [[1. 0. 0.]]\n",
      "[ ] Elapsed time: 188.6230330467224\n"
     ]
    }
   ],
   "source": [
    "pipeline(\"data_classify/bio_interactome/edges2.csv\", delimiter=\",\")"
   ]
  },
  {
   "cell_type": "code",
   "execution_count": 11,
   "id": "d9393aa6",
   "metadata": {},
   "outputs": [
    {
     "name": "stdout",
     "output_type": "stream",
     "text": [
      "[ ] Loading network at data_classify/bio_plant_pol/edges2.csv ...\n",
      "[ ] Pre-Proccessing network...\n",
      "[+]    Network Order:  1882\n",
      "[+]    Network Avg Degree:  16.210414452709884\n",
      "[ ] Feature Extraction Start...\n",
      "[+]    Network measures...\n",
      "[+]    Network centrality measures...\n",
      "[ ] Generating models...\n",
      "[+]    Erdos-Renyi (Random Graphs)...\n",
      "[+]    Watts Strogatz Networks...\n",
      "[+]    Barabasi Albert Networks...\n",
      "[ ] Starting classifier and scaler...\n",
      "[+]    Network Class:  [3]\n",
      "[+]    Distribution:   [[0. 0. 1.]]\n",
      "[ ] Elapsed time: 444.24902963638306\n"
     ]
    }
   ],
   "source": [
    "pipeline(\"data_classify/bio_plant_pol/edges2.csv\", delimiter=\",\")"
   ]
  },
  {
   "cell_type": "code",
   "execution_count": 12,
   "id": "841deaab",
   "metadata": {},
   "outputs": [
    {
     "name": "stdout",
     "output_type": "stream",
     "text": [
      "[ ] Loading network at data_classify/social_crime/edges2.csv ...\n",
      "[ ] Pre-Proccessing network...\n",
      "[+]    Network Order:  1263\n",
      "[+]    Network Avg Degree:  2.1805225653206652\n",
      "[ ] Feature Extraction Start...\n",
      "[+]    Network measures...\n",
      "[+]    Network centrality measures...\n",
      "[ ] Generating models...\n",
      "[+]    Erdos-Renyi (Random Graphs)...\n",
      "[+]    Watts Strogatz Networks...\n",
      "[+]    Barabasi Albert Networks...\n",
      "[ ] Starting classifier and scaler...\n",
      "[+]    Network Class:  [3]\n",
      "[+]    Distribution:   [[0. 0. 1.]]\n",
      "[ ] Elapsed time: 137.09188795089722\n"
     ]
    }
   ],
   "source": [
    "pipeline(\"data_classify/social_crime/edges2.csv\", delimiter=\",\")"
   ]
  },
  {
   "cell_type": "code",
   "execution_count": 13,
   "id": "82f22710",
   "metadata": {},
   "outputs": [
    {
     "name": "stdout",
     "output_type": "stream",
     "text": [
      "[ ] Loading network at data_classify/social_netscience/edges2.csv ...\n",
      "[ ] Pre-Proccessing network...\n",
      "[+]    Network Order:  379\n",
      "[+]    Network Avg Degree:  4.823218997361478\n",
      "[ ] Feature Extraction Start...\n",
      "[+]    Network measures...\n",
      "[+]    Network centrality measures...\n",
      "[ ] Generating models...\n",
      "[+]    Erdos-Renyi (Random Graphs)...\n",
      "[+]    Watts Strogatz Networks...\n",
      "[+]    Barabasi Albert Networks...\n",
      "[ ] Starting classifier and scaler...\n",
      "[+]    Network Class:  [2]\n",
      "[+]    Distribution:   [[0. 1. 0.]]\n",
      "[ ] Elapsed time: 17.468687057495117\n"
     ]
    }
   ],
   "source": [
    "pipeline(\"data_classify/social_netscience/edges2.csv\", delimiter=\",\")"
   ]
  },
  {
   "cell_type": "code",
   "execution_count": 14,
   "id": "7fec735b",
   "metadata": {},
   "outputs": [
    {
     "name": "stdout",
     "output_type": "stream",
     "text": [
      "[ ] Loading network at data_classify/social_new_zealand_collab/edges2.csv ...\n",
      "[ ] Pre-Proccessing network...\n",
      "[+]    Network Order:  1463\n",
      "[+]    Network Avg Degree:  5.804511278195489\n",
      "[ ] Feature Extraction Start...\n",
      "[+]    Network measures...\n",
      "[+]    Network centrality measures...\n",
      "[ ] Generating models...\n",
      "[+]    Erdos-Renyi (Random Graphs)...\n",
      "[+]    Watts Strogatz Networks...\n",
      "[+]    Barabasi Albert Networks...\n",
      "[ ] Starting classifier and scaler...\n",
      "[+]    Network Class:  [3]\n",
      "[+]    Distribution:   [[0. 0. 1.]]\n",
      "[ ] Elapsed time: 239.94393920898438\n"
     ]
    }
   ],
   "source": [
    "pipeline(\"data_classify/social_new_zealand_collab/edges2.csv\", delimiter=\",\")"
   ]
  },
  {
   "cell_type": "code",
   "execution_count": 15,
   "id": "bece5274",
   "metadata": {},
   "outputs": [
    {
     "name": "stdout",
     "output_type": "stream",
     "text": [
      "[ ] Loading network at data_classify/tec_internet_Kdl.csv/edges2.csv ...\n",
      "[ ] Pre-Proccessing network...\n",
      "[+]    Network Order:  754\n",
      "[+]    Network Avg Degree:  2.374005305039788\n",
      "[ ] Feature Extraction Start...\n",
      "[+]    Network measures...\n",
      "[+]    Network centrality measures...\n",
      "[ ] Generating models...\n",
      "[+]    Erdos-Renyi (Random Graphs)...\n",
      "[+]    Watts Strogatz Networks...\n",
      "[+]    Barabasi Albert Networks...\n",
      "[ ] Starting classifier and scaler...\n",
      "[+]    Network Class:  [1]\n",
      "[+]    Distribution:   [[1. 0. 0.]]\n",
      "[ ] Elapsed time: 52.54865550994873\n"
     ]
    }
   ],
   "source": [
    "pipeline(\"data_classify/tec_internet_Kdl.csv/edges2.csv\", delimiter=\",\")"
   ]
  },
  {
   "cell_type": "code",
   "execution_count": 16,
   "id": "c6a6c82a",
   "metadata": {
    "scrolled": true
   },
   "outputs": [
    {
     "name": "stdout",
     "output_type": "stream",
     "text": [
      "[ ] Loading network at data_classify/tec_jung/edges2.csv ...\n",
      "[ ] Pre-Proccessing network...\n",
      "[+]    Network Order:  6120\n",
      "[+]    Network Avg Degree:  16.434640522875817\n",
      "[ ] Feature Extraction Start...\n",
      "[+]    Network measures...\n",
      "[+]    Network centrality measures...\n",
      "[ ] Generating models...\n",
      "[+]    Erdos-Renyi (Random Graphs)...\n",
      "[+]    Watts Strogatz Networks...\n",
      "[+]    Barabasi Albert Networks...\n",
      "[ ] Starting classifier and scaler...\n",
      "[+]    Network Class:  [3]\n",
      "[+]    Distribution:   [[0. 0. 1.]]\n",
      "[ ] Elapsed time: 4881.798941612244\n"
     ]
    }
   ],
   "source": [
    "pipeline(\"data_classify/tec_jung/edges2.csv\", delimiter=\",\")"
   ]
  },
  {
   "cell_type": "code",
   "execution_count": 9,
   "id": "63391741",
   "metadata": {},
   "outputs": [
    {
     "name": "stdout",
     "output_type": "stream",
     "text": [
      "[ ] Loading network at data_classify/tec_powergrid/edges2.csv ...\n",
      "[ ] Pre-Proccessing network...\n",
      "[+]    Network Order:  4941\n",
      "[+]    Network Avg Degree:  2.66909532483303\n",
      "[ ] Feature Extraction Start...\n",
      "[+]    Network measures...\n",
      "[+]    Network centrality measures...\n",
      "[ ] Generating models...\n",
      "[+]    Erdos-Renyi (Random Graphs)...\n",
      "[+]    Watts Strogatz Networks...\n",
      "[+]    Barabasi Albert Networks...\n",
      "[ ] Starting classifier and scaler...\n",
      "[+]    Network Class:  [1]\n",
      "[+]    Distribution:   [[1. 0. 0.]]\n",
      "[ ] Elapsed time: 2848.0157766342163\n"
     ]
    }
   ],
   "source": [
    "pipeline(\"data_classify/tec_powergrid/edges2.csv\", delimiter=\",\")"
   ]
  },
  {
   "cell_type": "markdown",
   "id": "a63be4ab",
   "metadata": {},
   "source": [
    "### Hipótese - Redes de mesma categoria são classificadas pelos mesmos modelos\n",
    "\n",
    "Re: Como fazemos a comparação da apenas 3 redes de cada tipo e com um conjunto limitado de features não podemos tirar uma conclusão tão forte. Mas das redes utilizadas podemos atestar que utilizando Knn (k=5) as redes não corroboraram a hipótese ao serem classificadas em categorias distintas."
   ]
  },
  {
   "cell_type": "markdown",
   "id": "0b9dc643",
   "metadata": {},
   "source": [
    "# Classifying Network - Test Sample (Jazz.txt)"
   ]
  },
  {
   "cell_type": "code",
   "execution_count": 9,
   "id": "155b4eab",
   "metadata": {
    "scrolled": false
   },
   "outputs": [
    {
     "name": "stdout",
     "output_type": "stream",
     "text": [
      "[ ] Loading network at data/jazz.txt ...\n",
      "[ ] Pre-Proccessing network...\n",
      "[+]    Network Order:  198\n",
      "[+]    Network Avg Degree:  27.696969696969695\n",
      "[ ] Feature Extraction Start...\n",
      "[+]    Network measures...\n",
      "[+]    Network centrality measures...\n",
      "[ ] Generating models...\n",
      "[+]    Erdos-Renyi (Random Graphs)...\n",
      "[+]    Watts Strogatz Networks...\n",
      "[+]    Barabasi Albert Networks...\n",
      "[ ] Starting classifier and scaler...\n",
      "[+]    Network Class:  [1]\n",
      "[+]    Distribution:   [[1. 0. 0.]]\n",
      "[ ] Elapsed time: 11.500862836837769\n"
     ]
    }
   ],
   "source": [
    "pipeline(\"data/jazz.txt\", delimiter=\" \")"
   ]
  },
  {
   "cell_type": "code",
   "execution_count": 35,
   "id": "6b8e4836",
   "metadata": {},
   "outputs": [
    {
     "name": "stdout",
     "output_type": "stream",
     "text": [
      "[ ] Loading network at data/jazz.txt ...\n",
      "[ ] Pre-Proccessing network...\n",
      "[+]    Network Order:  198\n",
      "[+]    Network Avg Degree:  27.696969696969695\n",
      "[ ] Feature Extraction Start...\n",
      "[+]    Network measures...\n",
      "[+]    Network centrality measures...\n",
      "[ ] Generating models...\n",
      "[+]    Erdos-Renyi (Random Graphs)...\n",
      "[+]    Watts Strogatz Networks...\n",
      "[+]    Barabasi Albert Networks...\n",
      "[ ] Starting classifier and scaler...\n",
      "[+]    The importance of each variable for PC\n",
      "[+]    PC0 - k2 - 0.68.\n",
      "[+]    PC1 - k1 - 0.25.\n",
      "[+]    PC2 - Assortativity Coefficient - 0.05.\n",
      "[+]    Network Class:  [1]\n",
      "[+]    Distribution:   [[1. 0. 0.]]\n",
      "[ ] Elapsed time: 8.881659507751465\n"
     ]
    }
   ],
   "source": [
    "pipeline(\"data/jazz.txt\", dim_reduction=True, delimiter=\" \")"
   ]
  },
  {
   "cell_type": "markdown",
   "id": "1a1fef70",
   "metadata": {},
   "source": [
    "### Dimensionality Reduction\n",
    "\n",
    "Como diversos métodos de medida são utilizados, talvez surga o problema devido ao alto grau de correlação entre diversas váriaveis, que pode levar a problemas conhecidos como \"curse of dimensionality\", do inglês, a maldição da dimensinalidade.\n",
    "\n",
    "Para eliminar isso, foi usado o PCA (Principal Component analysis), que preserve a variância em 0.95%."
   ]
  },
  {
   "cell_type": "code",
   "execution_count": 36,
   "id": "c8b72bc0",
   "metadata": {},
   "outputs": [
    {
     "name": "stdout",
     "output_type": "stream",
     "text": [
      "[ ] Loading network at data_classify/bio_budapest_male_20k/edges2.csv ...\n",
      "[ ] Pre-Proccessing network...\n",
      "[+]    Network Order:  1015\n",
      "[+]    Network Avg Degree:  105.58817733990148\n",
      "[ ] Feature Extraction Start...\n",
      "[+]    Network measures...\n",
      "[+]    Network centrality measures...\n",
      "[ ] Generating models...\n",
      "[+]    Erdos-Renyi (Random Graphs)...\n",
      "[+]    Watts Strogatz Networks...\n",
      "[+]    Barabasi Albert Networks...\n",
      "[ ] Starting classifier and scaler...\n",
      "[+]    The importance of each variable for PC\n",
      "[+]    PC0 - k2 - 0.6.\n",
      "[+]    PC1 - Avg Cluster - 0.24.\n",
      "[+]    PC2 - Assortativity Coefficient - 0.16.\n",
      "[+]    Network Class:  [2]\n",
      "[+]    Distribution:   [[0. 1. 0.]]\n",
      "[ ] Elapsed time: 297.17249059677124\n"
     ]
    }
   ],
   "source": [
    "pipeline(\"data_classify/bio_budapest_male_20k/edges2.csv\", dim_reduction=True, delimiter=\",\")"
   ]
  },
  {
   "cell_type": "code",
   "execution_count": 37,
   "id": "b9335981",
   "metadata": {},
   "outputs": [
    {
     "name": "stdout",
     "output_type": "stream",
     "text": [
      "[ ] Loading network at data_classify/bio_interactome/edges2.csv ...\n",
      "[ ] Pre-Proccessing network...\n",
      "[+]    Network Order:  1458\n",
      "[+]    Network Avg Degree:  2.672153635116598\n",
      "[ ] Feature Extraction Start...\n",
      "[+]    Network measures...\n",
      "[+]    Network centrality measures...\n",
      "[ ] Generating models...\n",
      "[+]    Erdos-Renyi (Random Graphs)...\n",
      "[+]    Watts Strogatz Networks...\n",
      "[+]    Barabasi Albert Networks...\n",
      "[ ] Starting classifier and scaler...\n",
      "[+]    The importance of each variable for PC\n",
      "[+]    PC0 - k2 - 0.48.\n",
      "[+]    PC1 - k1 - 0.41.\n",
      "[+]    PC2 - Avg Cluster - 0.06.\n",
      "[+]    Network Class:  [1]\n",
      "[+]    Distribution:   [[1. 0. 0.]]\n",
      "[ ] Elapsed time: 182.46490716934204\n"
     ]
    }
   ],
   "source": [
    "pipeline(\"data_classify/bio_interactome/edges2.csv\", dim_reduction=True, delimiter=\",\")"
   ]
  },
  {
   "cell_type": "code",
   "execution_count": 38,
   "id": "b5ba6d89",
   "metadata": {},
   "outputs": [
    {
     "name": "stdout",
     "output_type": "stream",
     "text": [
      "[ ] Loading network at data_classify/bio_plant_pol/edges2.csv ...\n",
      "[ ] Pre-Proccessing network...\n",
      "[+]    Network Order:  1882\n",
      "[+]    Network Avg Degree:  16.210414452709884\n",
      "[ ] Feature Extraction Start...\n",
      "[+]    Network measures...\n",
      "[+]    Network centrality measures...\n",
      "[ ] Generating models...\n",
      "[+]    Erdos-Renyi (Random Graphs)...\n",
      "[+]    Watts Strogatz Networks...\n",
      "[+]    Barabasi Albert Networks...\n",
      "[ ] Starting classifier and scaler...\n",
      "[+]    The importance of each variable for PC\n",
      "[+]    PC0 - k2 - 0.66.\n",
      "[+]    PC1 - k1 - 0.29.\n",
      "[+]    PC2 - Assortativity Coefficient - 0.04.\n",
      "[+]    Network Class:  [3]\n",
      "[+]    Distribution:   [[0. 0. 1.]]\n",
      "[ ] Elapsed time: 715.2855706214905\n"
     ]
    }
   ],
   "source": [
    "pipeline(\"data_classify/bio_plant_pol/edges2.csv\", dim_reduction=True, delimiter=\",\")"
   ]
  },
  {
   "cell_type": "code",
   "execution_count": 39,
   "id": "a74c6dca",
   "metadata": {},
   "outputs": [
    {
     "name": "stdout",
     "output_type": "stream",
     "text": [
      "[ ] Loading network at data_classify/social_crime/edges2.csv ...\n",
      "[ ] Pre-Proccessing network...\n",
      "[+]    Network Order:  1263\n",
      "[+]    Network Avg Degree:  2.1805225653206652\n",
      "[ ] Feature Extraction Start...\n",
      "[+]    Network measures...\n",
      "[+]    Network centrality measures...\n",
      "[ ] Generating models...\n",
      "[+]    Erdos-Renyi (Random Graphs)...\n",
      "[+]    Watts Strogatz Networks...\n",
      "[+]    Barabasi Albert Networks...\n",
      "[ ] Starting classifier and scaler...\n",
      "[+]    The importance of each variable for PC\n",
      "[+]    PC0 - k2 - 0.51.\n",
      "[+]    PC1 - k1 - 0.35.\n",
      "[+]    PC2 - Assortativity Coefficient - 0.07.\n",
      "[+]    PC3 - Avg Cluster - 0.05.\n",
      "[+]    Network Class:  [3]\n",
      "[+]    Distribution:   [[0. 0. 1.]]\n",
      "[ ] Elapsed time: 251.32137441635132\n"
     ]
    }
   ],
   "source": [
    "pipeline(\"data_classify/social_crime/edges2.csv\", dim_reduction=True, delimiter=\",\")"
   ]
  },
  {
   "cell_type": "code",
   "execution_count": 40,
   "id": "9ab7b2b0",
   "metadata": {},
   "outputs": [
    {
     "name": "stdout",
     "output_type": "stream",
     "text": [
      "[ ] Loading network at data_classify/social_netscience/edges2.csv ...\n",
      "[ ] Pre-Proccessing network...\n",
      "[+]    Network Order:  379\n",
      "[+]    Network Avg Degree:  4.823218997361478\n",
      "[ ] Feature Extraction Start...\n",
      "[+]    Network measures...\n",
      "[+]    Network centrality measures...\n",
      "[ ] Generating models...\n",
      "[+]    Erdos-Renyi (Random Graphs)...\n",
      "[+]    Watts Strogatz Networks...\n",
      "[+]    Barabasi Albert Networks...\n",
      "[ ] Starting classifier and scaler...\n",
      "[+]    The importance of each variable for PC\n",
      "[+]    PC0 - k2 - 0.65.\n",
      "[+]    PC1 - k1 - 0.31.\n",
      "[+]    Network Class:  [2]\n",
      "[+]    Distribution:   [[0. 1. 0.]]\n",
      "[ ] Elapsed time: 28.56266474723816\n"
     ]
    }
   ],
   "source": [
    "pipeline(\"data_classify/social_netscience/edges2.csv\", dim_reduction=True, delimiter=\",\")"
   ]
  },
  {
   "cell_type": "code",
   "execution_count": 41,
   "id": "1543d820",
   "metadata": {},
   "outputs": [
    {
     "name": "stdout",
     "output_type": "stream",
     "text": [
      "[ ] Loading network at data_classify/social_new_zealand_collab/edges2.csv ...\n",
      "[ ] Pre-Proccessing network...\n",
      "[+]    Network Order:  1463\n",
      "[+]    Network Avg Degree:  5.804511278195489\n",
      "[ ] Feature Extraction Start...\n",
      "[+]    Network measures...\n",
      "[+]    Network centrality measures...\n",
      "[ ] Generating models...\n",
      "[+]    Erdos-Renyi (Random Graphs)...\n",
      "[+]    Watts Strogatz Networks...\n",
      "[+]    Barabasi Albert Networks...\n",
      "[ ] Starting classifier and scaler...\n",
      "[+]    The importance of each variable for PC\n",
      "[+]    PC0 - Avg SPL - 0.69.\n",
      "[+]    PC1 - Assortativity Coefficient - 0.28.\n",
      "[+]    Network Class:  [3]\n",
      "[+]    Distribution:   [[0. 0. 1.]]\n",
      "[ ] Elapsed time: 448.9275770187378\n"
     ]
    }
   ],
   "source": [
    "pipeline(\"data_classify/social_new_zealand_collab/edges2.csv\", dim_reduction=True, delimiter=\",\")"
   ]
  },
  {
   "cell_type": "code",
   "execution_count": 42,
   "id": "84ea4e38",
   "metadata": {},
   "outputs": [
    {
     "name": "stdout",
     "output_type": "stream",
     "text": [
      "[ ] Loading network at data_classify/tec_internet_Kdl.csv/edges2.csv ...\n",
      "[ ] Pre-Proccessing network...\n",
      "[+]    Network Order:  754\n",
      "[+]    Network Avg Degree:  2.374005305039788\n",
      "[ ] Feature Extraction Start...\n",
      "[+]    Network measures...\n",
      "[+]    Network centrality measures...\n",
      "[ ] Generating models...\n",
      "[+]    Erdos-Renyi (Random Graphs)...\n",
      "[+]    Watts Strogatz Networks...\n",
      "[+]    Barabasi Albert Networks...\n",
      "[ ] Starting classifier and scaler...\n",
      "[+]    The importance of each variable for PC\n",
      "[+]    PC0 - k2 - 0.5.\n",
      "[+]    PC1 - k1 - 0.36.\n",
      "[+]    PC2 - Assortativity Coefficient - 0.06.\n",
      "[+]    PC3 - Avg Cluster - 0.06.\n",
      "[+]    Network Class:  [1]\n",
      "[+]    Distribution:   [[1. 0. 0.]]\n",
      "[ ] Elapsed time: 92.49473714828491\n"
     ]
    }
   ],
   "source": [
    "pipeline(\"data_classify/tec_internet_Kdl.csv/edges2.csv\", dim_reduction=True, delimiter=\",\")"
   ]
  },
  {
   "cell_type": "code",
   "execution_count": 43,
   "id": "8a2c6d86",
   "metadata": {},
   "outputs": [
    {
     "name": "stdout",
     "output_type": "stream",
     "text": [
      "[ ] Loading network at data_classify/tec_jung/edges2.csv ...\n",
      "[ ] Pre-Proccessing network...\n",
      "[+]    Network Order:  6120\n",
      "[+]    Network Avg Degree:  16.434640522875817\n",
      "[ ] Feature Extraction Start...\n",
      "[+]    Network measures...\n",
      "[+]    Network centrality measures...\n",
      "[ ] Generating models...\n",
      "[+]    Erdos-Renyi (Random Graphs)...\n",
      "[+]    Watts Strogatz Networks...\n",
      "[+]    Barabasi Albert Networks...\n",
      "[ ] Starting classifier and scaler...\n",
      "[+]    The importance of each variable for PC\n",
      "[+]    PC0 - k2 - 0.65.\n",
      "[+]    PC1 - k1 - 0.33.\n",
      "[+]    Network Class:  [3]\n",
      "[+]    Distribution:   [[0. 0. 1.]]\n",
      "[ ] Elapsed time: 7763.542801618576\n"
     ]
    }
   ],
   "source": [
    "pipeline(\"data_classify/tec_jung/edges2.csv\", dim_reduction=True, delimiter=\",\")"
   ]
  },
  {
   "cell_type": "code",
   "execution_count": 45,
   "id": "19c9f309",
   "metadata": {},
   "outputs": [
    {
     "name": "stdout",
     "output_type": "stream",
     "text": [
      "[ ] Loading network at data_classify/tec_powergrid/edges2.csv ...\n",
      "[ ] Pre-Proccessing network...\n",
      "[+]    Network Order:  4941\n",
      "[+]    Network Avg Degree:  2.66909532483303\n",
      "[ ] Feature Extraction Start...\n",
      "[+]    Network measures...\n",
      "[+]    Network centrality measures...\n",
      "[ ] Generating models...\n",
      "[+]    Erdos-Renyi (Random Graphs)...\n",
      "[+]    Watts Strogatz Networks...\n",
      "[+]    Barabasi Albert Networks...\n",
      "[ ] Starting classifier and scaler...\n",
      "[+]    The importance of each variable for PC\n",
      "[+]    PC0 - Var k - 0.49.\n",
      "[+]    PC1 - k1 - 0.41.\n",
      "[+]    PC2 - Avg Cluster - 0.06.\n",
      "[+]    PC3 - Assortativity Coefficient - 0.04.\n",
      "[+]    Network Class:  [1]\n",
      "[+]    Distribution:   [[1. 0. 0.]]\n",
      "[ ] Elapsed time: 1776.9076867103577\n"
     ]
    }
   ],
   "source": [
    "pipeline(\"data_classify/tec_powergrid/edges2.csv\", dim_reduction=True, delimiter=\",\")"
   ]
  },
  {
   "cell_type": "markdown",
   "id": "b919f720",
   "metadata": {},
   "source": [
    "### Conclusão\n",
    "A inclusão do PCA melhorou o tempo de execução, porém os resultados obtidos foram os mesmos - redes de mesma categoria não parecem seguir o mesmo modelo. Vale notar que o conjunto de testes usado ainda foi pequena e não foram consideradas medidas de centralidade, o que não confere confiança a essa conclusão."
   ]
  },
  {
   "cell_type": "code",
   "execution_count": null,
   "id": "7b328853",
   "metadata": {},
   "outputs": [],
   "source": []
  }
 ],
 "metadata": {
  "kernelspec": {
   "display_name": "Python 3",
   "language": "python",
   "name": "python3"
  },
  "language_info": {
   "codemirror_mode": {
    "name": "ipython",
    "version": 3
   },
   "file_extension": ".py",
   "mimetype": "text/x-python",
   "name": "python",
   "nbconvert_exporter": "python",
   "pygments_lexer": "ipython3",
   "version": "3.8.10"
  }
 },
 "nbformat": 4,
 "nbformat_minor": 5
}
