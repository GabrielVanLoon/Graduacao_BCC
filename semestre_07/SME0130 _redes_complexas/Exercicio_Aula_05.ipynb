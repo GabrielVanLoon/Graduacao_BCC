{
 "cells": [
  {
   "cell_type": "markdown",
   "id": "f0d7597f",
   "metadata": {},
   "source": [
    "# Exercício Aula 05 - Detecção de Comunidades\n",
    "\n",
    "Author: Gabriel Van Loon\n",
    "\n",
    "Prof.:  Francisco Aparecido Rodrigues\n",
    "\n",
    "Universidade de São Paulo, São Carlos, Brasil.\n"
   ]
  },
  {
   "cell_type": "markdown",
   "id": "ceaafe63",
   "metadata": {},
   "source": [
    "## Definindo as Funções e Bibliotecas utilizadas"
   ]
  },
  {
   "cell_type": "code",
   "execution_count": 18,
   "id": "95066816",
   "metadata": {},
   "outputs": [],
   "source": [
    "import collections\n",
    "import numpy as np\n",
    "import matplotlib.pyplot as plt\n",
    "import networkx as nx\n",
    "\n",
    "from scipy.stats import pearsonr, spearmanr\n",
    "\n",
    "from networkx.algorithms import community\n",
    "from networkx.algorithms.community import greedy_modularity_communities\n",
    "from community import community_louvain"
   ]
  },
  {
   "cell_type": "markdown",
   "id": "f620959d",
   "metadata": {},
   "source": [
    "Funções vistas na aula 05"
   ]
  },
  {
   "cell_type": "code",
   "execution_count": 9,
   "id": "d8fe81c7",
   "metadata": {},
   "outputs": [],
   "source": [
    "def modularity(G, c):\n",
    "    \"\"\"\n",
    "    Calcula a modularidade da partição realizada na rede G nas c\n",
    "    comunidades. Outra opção é utilizar a função do networkx\n",
    "    networkx.algorithms.community.quality.modularity(G,c)\n",
    "    \"\"\"\n",
    "    A = nx.adjacency_matrix(G)\n",
    "    N = len(G)\n",
    "    M = G.number_of_edges()\n",
    "    Q = 0\n",
    "    for i in np.arange(0,N):\n",
    "        ki = len(list(G.neighbors(i)))\n",
    "        for j in np.arange(0,N):\n",
    "            if(c[i]==c[j]):\n",
    "                kj = len(list(G.neighbors(j)))\n",
    "                Q = Q + A[i,j]-(ki*kj)/(2*M)\n",
    "    Q = Q/(2*M)\n",
    "    return Q"
   ]
  },
  {
   "cell_type": "markdown",
   "id": "9ae3f615",
   "metadata": {},
   "source": [
    "## 1) Calcule a modularidade para a rede Jazz usando método fastgreedy"
   ]
  },
  {
   "cell_type": "code",
   "execution_count": 6,
   "id": "7f492ad8",
   "metadata": {},
   "outputs": [],
   "source": [
    "# Read and prepare the network\n",
    "G = nx.read_edgelist('data/jazz.txt', nodetype=int)\n",
    "# Grafo não direcionado\n",
    "G = G.to_undirected()\n",
    "# Remover auto-loops\n",
    "G.remove_edges_from(nx.selfloop_edges(G))\n",
    "# Escolhe maior componente\n",
    "Gcc = sorted(nx.connected_components(G), key=len, reverse=True)\n",
    "G = G.subgraph(Gcc[0])\n",
    "# Renomeia os vértices\n",
    "G = nx.convert_node_labels_to_integers(G, first_label=0)"
   ]
  },
  {
   "cell_type": "code",
   "execution_count": 13,
   "id": "ea1ddb81",
   "metadata": {},
   "outputs": [],
   "source": [
    "# Using nx\n",
    "c = greedy_modularity_communities(G)\n",
    "modularity_nx = community.quality.modularity(G,c)\n",
    "\n",
    "# Using class function\n",
    "c = list(greedy_modularity_communities(G))\n",
    "communities = np.zeros(len(G.nodes()))\n",
    "nc = 0\n",
    "for k in range(0,len(c)):\n",
    "    communities[sorted(c[k])]=nc\n",
    "    nc = nc+1\n",
    "    # print('Community:', sorted(c[k]))\n",
    "modularity_result = modularity(G,communities)"
   ]
  },
  {
   "cell_type": "code",
   "execution_count": 12,
   "id": "05937ba3",
   "metadata": {},
   "outputs": [
    {
     "name": "stdout",
     "output_type": "stream",
     "text": [
      "Fast Greedy Modularity (NX) 0.43890781537538287\n",
      "Fast Greedy Modularity (Function) 0.4389078153753761\n"
     ]
    }
   ],
   "source": [
    "print('Fast Greedy Modularity (NX)', modularity_nx)\n",
    "print('Fast Greedy Modularity (Function)', modularity_result)"
   ]
  },
  {
   "cell_type": "markdown",
   "id": "60a5215c",
   "metadata": {},
   "source": [
    "## 2) Calcule a modularidade para a rede Jazz usando método Louvain."
   ]
  },
  {
   "cell_type": "code",
   "execution_count": 32,
   "id": "334f8465",
   "metadata": {},
   "outputs": [],
   "source": [
    "# Get communities using louvain (transform dict do list of values)\n",
    "c = np.array(list(community_louvain.best_partition(G).values()))\n",
    "# Calc modularity with class func.\n",
    "modularity_result = modularity(G, c)"
   ]
  },
  {
   "cell_type": "code",
   "execution_count": 34,
   "id": "d75c036a",
   "metadata": {},
   "outputs": [
    {
     "name": "stdout",
     "output_type": "stream",
     "text": [
      "Louvain Modularity (Func) 0.4446760046200235\n"
     ]
    }
   ],
   "source": [
    "print('Louvain Modularity (Func)', modularity_result)"
   ]
  },
  {
   "cell_type": "markdown",
   "id": "44dd359d",
   "metadata": {},
   "source": [
    "## 3 ) Considere o método de geração de redes LFR_benchmark_graph. Obtenha os valores da modularidade para 𝜇= 0.05, 𝜇= 0.1 e 𝜇= 0.2. Use o código a seguir para gerar as redes. Use o algoritmo de Louvain."
   ]
  },
  {
   "cell_type": "code",
   "execution_count": 44,
   "id": "93058073",
   "metadata": {},
   "outputs": [],
   "source": [
    "import networkx as nx\n",
    "import matplotlib.pyplot as plt \n",
    "import networkx as nx\n",
    "import numpy as np\n",
    "\n",
    "def generate_random_graph(mu = 0.05):\n",
    "    N = 128\n",
    "    tau1 = 3\n",
    "    tau2 = 1.5\n",
    "    k =16\n",
    "    minc = 32\n",
    "    maxc = 32\n",
    "    mu = mu\n",
    "    G = nx.LFR_benchmark_graph(n = N, tau1 = tau1, tau2 = tau2, mu = mu, min_degree = k, max_degree = k, min_community=minc, max_community = maxc, seed = 10)\n",
    "    #pos=nx.spring_layout(G)\n",
    "    #fig= plt.figure(figsize=(10,6))\n",
    "    #nx.draw(G, pos=pos, node_color = 'lightblue', with_labels = True)\n",
    "    #plt.show(True)\n",
    "    return G"
   ]
  },
  {
   "cell_type": "code",
   "execution_count": 45,
   "id": "76d047fb",
   "metadata": {},
   "outputs": [],
   "source": [
    "G = generate_random_graph(mu = 0.05)\n",
    "c = np.array(list(community_louvain.best_partition(G).values()))\n",
    "modularity_result1 = modularity(G, c)\n",
    "\n",
    "G = generate_random_graph(mu = 0.1)\n",
    "c = np.array(list(community_louvain.best_partition(G).values()))\n",
    "modularity_result2 = modularity(G, c)\n",
    "\n",
    "G = generate_random_graph(mu = 0.2)\n",
    "c = np.array(list(community_louvain.best_partition(G).values()))\n",
    "modularity_result3 = modularity(G, c)"
   ]
  },
  {
   "cell_type": "code",
   "execution_count": 46,
   "id": "6ca1a7b0",
   "metadata": {},
   "outputs": [
    {
     "name": "stdout",
     "output_type": "stream",
     "text": [
      "Louvain Modularity (Func) 0.643639535397838\n",
      "Louvain Modularity (Func) 0.5427818606053953\n",
      "Louvain Modularity (Func) 0.44487909975820294\n"
     ]
    }
   ],
   "source": [
    "print('Louvain Modularity (Func)', modularity_result1)\n",
    "print('Louvain Modularity (Func)', modularity_result2)\n",
    "print('Louvain Modularity (Func)', modularity_result3)"
   ]
  },
  {
   "cell_type": "markdown",
   "id": "215ad25b",
   "metadata": {},
   "source": [
    "## 4) Utilizando a mesma rede gerada acima, calcule a modularidade usando o algoritmo Fast Greedy"
   ]
  },
  {
   "cell_type": "code",
   "execution_count": 47,
   "id": "f8b4c5e8",
   "metadata": {},
   "outputs": [],
   "source": [
    "G = generate_random_graph(mu = 0.05)\n",
    "c = greedy_modularity_communities(G)\n",
    "modularity_nx1 = community.quality.modularity(G,c)\n",
    "\n",
    "G = generate_random_graph(mu = 0.1)\n",
    "c = greedy_modularity_communities(G)\n",
    "modularity_nx2 = community.quality.modularity(G,c)\n",
    "\n",
    "G = generate_random_graph(mu = 0.2)\n",
    "c = greedy_modularity_communities(G)\n",
    "modularity_nx3 = community.quality.modularity(G,c)"
   ]
  },
  {
   "cell_type": "code",
   "execution_count": 48,
   "id": "2f01d149",
   "metadata": {},
   "outputs": [
    {
     "name": "stdout",
     "output_type": "stream",
     "text": [
      "Fast Greedy Modularity (NX) 0.6507990505232746\n",
      "Fast Greedy Modularity (NX) 0.549582070125871\n",
      "Fast Greedy Modularity (NX) 0.44042997085994173\n"
     ]
    }
   ],
   "source": [
    "print('Fast Greedy Modularity (NX)', modularity_nx1)\n",
    "print('Fast Greedy Modularity (NX)', modularity_nx2)\n",
    "print('Fast Greedy Modularity (NX)', modularity_nx3)"
   ]
  },
  {
   "cell_type": "code",
   "execution_count": null,
   "id": "f3958ae9",
   "metadata": {},
   "outputs": [],
   "source": []
  }
 ],
 "metadata": {
  "kernelspec": {
   "display_name": "Python 3",
   "language": "python",
   "name": "python3"
  },
  "language_info": {
   "codemirror_mode": {
    "name": "ipython",
    "version": 3
   },
   "file_extension": ".py",
   "mimetype": "text/x-python",
   "name": "python",
   "nbconvert_exporter": "python",
   "pygments_lexer": "ipython3",
   "version": "3.8.10"
  }
 },
 "nbformat": 4,
 "nbformat_minor": 5
}
