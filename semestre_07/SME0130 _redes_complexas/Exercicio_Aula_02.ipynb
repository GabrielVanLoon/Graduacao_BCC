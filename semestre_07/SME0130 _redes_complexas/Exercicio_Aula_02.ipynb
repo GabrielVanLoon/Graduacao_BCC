{
 "cells": [
  {
   "cell_type": "markdown",
   "id": "f0d7597f",
   "metadata": {},
   "source": [
    "# Exercício Aula 02 - Grau e Transitividades\n",
    "\n",
    "Author: Gabriel Van Loon\n",
    "Prof.:  Francisco Aparecido Rodrigues\n",
    "Universidade de São Paulo, São Carlos, Brasil.\n"
   ]
  },
  {
   "cell_type": "markdown",
   "id": "ceaafe63",
   "metadata": {},
   "source": [
    "## Definindo as Funções e Bibliotecas utilizadas"
   ]
  },
  {
   "cell_type": "code",
   "execution_count": 1,
   "id": "95066816",
   "metadata": {},
   "outputs": [],
   "source": [
    "import collections\n",
    "import numpy as np\n",
    "import matplotlib.pyplot as plt\n",
    "import networkx as nx\n",
    "\n",
    "def network_degree(G):\n",
    "    vk = np.array([v for v in dict(G.degree()).values()])\n",
    "    return vk, avg_degree\n",
    "\n",
    "# Optimized version by networkx documentation\n",
    "def degree_distribution(G, normalize=False):\n",
    "    degree_sequence = sorted([d for n, d in G.degree()], reverse=True)\n",
    "    degree_count    = collections.Counter(degree_sequence)\n",
    "    \n",
    "    if normalize:\n",
    "        total_sum = sum(degree_count.values())\n",
    "        for degree in degree_count:\n",
    "            degree_count[degree] = degree_count[degree]/total_sum\n",
    "            \n",
    "    return degree_count\n",
    "\n",
    "# Francisco originals\n",
    "def degree_distribution_original(G):\n",
    "    vk = dict(G.degree())\n",
    "    vk = list(vk.values())  # we get only the degree values\n",
    "    vk = np.array(vk)\n",
    "    maxk = np.max(vk)\n",
    "    mink = np.min(vk)\n",
    "    kvalues= np.arange(0,maxk+1) # possible values of k\n",
    "    Pk = np.zeros(maxk+1) # P(k)\n",
    "    for k in vk:\n",
    "        Pk[k] = Pk[k] + 1\n",
    "    Pk = Pk/sum(Pk) # the sum of the elements of P(k) must to be equal to one\n",
    "    return kvalues,Pk\n",
    "\n",
    "def momment_of_degree_distribution(G,m):\n",
    "    M = 0\n",
    "    N = len(G)\n",
    "    for i in G.nodes:\n",
    "        M = M + G.degree(i)**m\n",
    "    M = M/N\n",
    "    return M\n",
    "\n",
    "def network_variance(G):\n",
    "    variance = momment_of_degree_distribution(G,2) - momment_of_degree_distribution(G,1)**2\n",
    "    return variance\n",
    "\n",
    "def shannon_entropy(G):\n",
    "    k,Pk = degree_distribution_original(G)\n",
    "    H = 0\n",
    "    for p in Pk:\n",
    "        if(p > 0):\n",
    "            H = H - p*np.math.log(p, 2)\n",
    "    return H\n",
    "\n",
    "def normalized_shannon_entropy(G):\n",
    "    k,Pk = degree_distribution_original(G)\n",
    "    H = 0\n",
    "    for p in Pk:\n",
    "        if(p > 0):\n",
    "            H = H - p*np.math.log(p, 2)\n",
    "    return H/np.math.log(len(G),2)\n",
    "\n",
    "def network_complexity_coef(G):\n",
    "    return (momment_of_degree_distribution(G,2) / momment_of_degree_distribution(G,1))\n",
    "\n",
    "# Just to remember the calls\n",
    "# nx.transitivity(G)\n",
    "# nx.average_clustering(G)"
   ]
  },
  {
   "cell_type": "markdown",
   "id": "9ae3f615",
   "metadata": {},
   "source": [
    "## 1) Para a base lemis, calcule o terceiro e quarto momentos da distribuição do grau"
   ]
  },
  {
   "cell_type": "code",
   "execution_count": 2,
   "id": "7f492ad8",
   "metadata": {},
   "outputs": [],
   "source": [
    "# Read and prepare the network\n",
    "G = nx.read_edgelist('data/lesmis.txt', nodetype=int, data=(('weight',float),) )\n",
    "# Grafo não direcionado\n",
    "G = G.to_undirected()\n",
    "# Remover auto-loops\n",
    "G.remove_edges_from(nx.selfloop_edges(G))\n",
    "# Escolhe maior componente\n",
    "Gcc = sorted(nx.connected_components(G), key=len, reverse=True)\n",
    "G = G.subgraph(Gcc[0])\n",
    "# Renomeia os vértices\n",
    "G = nx.convert_node_labels_to_integers(G, first_label=0)"
   ]
  },
  {
   "cell_type": "code",
   "execution_count": 3,
   "id": "3881da1d",
   "metadata": {},
   "outputs": [
    {
     "name": "stdout",
     "output_type": "stream",
     "text": [
      "3º Moment of lemis:  1408\n",
      "4º Moment of lemis:  33592\n",
      "Resposta correta: (e)\n"
     ]
    }
   ],
   "source": [
    "print(\"3º Moment of lemis: \", int(momment_of_degree_distribution(G,3)))\n",
    "print(\"4º Moment of lemis: \", int(momment_of_degree_distribution(G,4)))\n",
    "print(\"Resposta correta: (e)\")"
   ]
  },
  {
   "cell_type": "markdown",
   "id": "60a5215c",
   "metadata": {},
   "source": [
    "## 2) Calcule o coeficiente de complexidade da rede Power Grid"
   ]
  },
  {
   "cell_type": "code",
   "execution_count": 4,
   "id": "59bdd1f0",
   "metadata": {},
   "outputs": [],
   "source": [
    "# Read and prepare the network\n",
    "G = nx.read_edgelist('data/powergrid.txt', nodetype=int, data=(('weight',float),) )\n",
    "# Grafo não direcionado\n",
    "G = G.to_undirected()\n",
    "# Remover auto-loops\n",
    "G.remove_edges_from(nx.selfloop_edges(G))\n",
    "# Escolhe maior componente\n",
    "Gcc = sorted(nx.connected_components(G), key=len, reverse=True)\n",
    "G = G.subgraph(Gcc[0])\n",
    "# Renomeia os vértices\n",
    "G = nx.convert_node_labels_to_integers(G, first_label=0)"
   ]
  },
  {
   "cell_type": "code",
   "execution_count": 5,
   "id": "200f6308",
   "metadata": {},
   "outputs": [
    {
     "name": "stdout",
     "output_type": "stream",
     "text": [
      "Complexity Coef: 3.8712465878070974\n",
      "Resposta correta: (b)\n"
     ]
    }
   ],
   "source": [
    "print('Complexity Coef:', network_complexity_coef(G))\n",
    "print(\"Resposta correta: (b)\")"
   ]
  },
  {
   "cell_type": "markdown",
   "id": "44dd359d",
   "metadata": {},
   "source": [
    "## 3) Calcule a Entropia de Shannon da rede Euro Road"
   ]
  },
  {
   "cell_type": "code",
   "execution_count": 6,
   "id": "330403f3",
   "metadata": {},
   "outputs": [],
   "source": [
    "# Read and prepare the network\n",
    "G = nx.read_edgelist('data/euroroad.txt', nodetype=int, data=(('weight',float),) )\n",
    "# Grafo não direcionado\n",
    "G = G.to_undirected()\n",
    "# Remover auto-loops\n",
    "G.remove_edges_from(nx.selfloop_edges(G))\n",
    "# Escolhe maior componente\n",
    "Gcc = sorted(nx.connected_components(G), key=len, reverse=True)\n",
    "G = G.subgraph(Gcc[0])\n",
    "# Renomeia os vértices\n",
    "G = nx.convert_node_labels_to_integers(G, first_label=0)"
   ]
  },
  {
   "cell_type": "code",
   "execution_count": 7,
   "id": "6ca1a7b0",
   "metadata": {},
   "outputs": [
    {
     "name": "stdout",
     "output_type": "stream",
     "text": [
      "Shannon Entropy: 2.0036762578444716\n",
      "Resposta correta: (e)\n"
     ]
    }
   ],
   "source": [
    "print('Shannon Entropy:', shannon_entropy(G))\n",
    "print(\"Resposta correta: (e)\")"
   ]
  },
  {
   "cell_type": "markdown",
   "id": "a5901922",
   "metadata": {},
   "source": [
    "## 4) Para a Rede de Aeroportos do Estados Unidos obtenha a Transitividade e o Clustering médio"
   ]
  },
  {
   "cell_type": "code",
   "execution_count": 8,
   "id": "fe8124cd",
   "metadata": {},
   "outputs": [],
   "source": [
    "# Read and prepare the network\n",
    "G = nx.read_edgelist('data/usairport.txt', nodetype=int, data=(('weight',float),) )\n",
    "# Grafo não direcionado\n",
    "G = G.to_undirected()\n",
    "# Remover auto-loops\n",
    "G.remove_edges_from(nx.selfloop_edges(G))\n",
    "# Escolhe maior componente\n",
    "Gcc = sorted(nx.connected_components(G), key=len, reverse=True)\n",
    "G = G.subgraph(Gcc[0])\n",
    "# Renomeia os vértices\n",
    "G = nx.convert_node_labels_to_integers(G, first_label=0)"
   ]
  },
  {
   "cell_type": "code",
   "execution_count": 9,
   "id": "44686b53",
   "metadata": {},
   "outputs": [
    {
     "name": "stdout",
     "output_type": "stream",
     "text": [
      "Transitivity =  0.3841\n",
      "Average clustering: 0.5048\n",
      "Resposta correta: (e)\n"
     ]
    }
   ],
   "source": [
    "print(\"Transitivity = \",\"%3.4f\"%nx.transitivity(G))\n",
    "print(\"Average clustering:\", \"%3.4f\"%nx.average_clustering(G))\n",
    "print(\"Resposta correta: (e)\")"
   ]
  },
  {
   "cell_type": "markdown",
   "id": "cb7d0cca",
   "metadata": {},
   "source": [
    "## 5) Calcule o coeficiente de complexidade e a Entropia de Shannon para a Rede de Aeroportos do Estados Unidos"
   ]
  },
  {
   "cell_type": "code",
   "execution_count": 10,
   "id": "ec766ec5",
   "metadata": {},
   "outputs": [
    {
     "name": "stdout",
     "output_type": "stream",
     "text": [
      "Complexity Coef: 112.22870919019402\n",
      "Shannon Entropy: 4.989437976520321\n",
      "Resposta correta: (d)\n"
     ]
    }
   ],
   "source": [
    "print('Complexity Coef:', network_complexity_coef(G))\n",
    "print('Shannon Entropy:', shannon_entropy(G))\n",
    "print(\"Resposta correta: (d)\")"
   ]
  },
  {
   "cell_type": "code",
   "execution_count": null,
   "id": "c70f11e6",
   "metadata": {},
   "outputs": [],
   "source": []
  }
 ],
 "metadata": {
  "kernelspec": {
   "display_name": "Python 3",
   "language": "python",
   "name": "python3"
  },
  "language_info": {
   "codemirror_mode": {
    "name": "ipython",
    "version": 3
   },
   "file_extension": ".py",
   "mimetype": "text/x-python",
   "name": "python",
   "nbconvert_exporter": "python",
   "pygments_lexer": "ipython3",
   "version": "3.8.10"
  }
 },
 "nbformat": 4,
 "nbformat_minor": 5
}
