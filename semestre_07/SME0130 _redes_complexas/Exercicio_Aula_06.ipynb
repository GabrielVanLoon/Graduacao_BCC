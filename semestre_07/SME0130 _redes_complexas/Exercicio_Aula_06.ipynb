{
 "cells": [
  {
   "cell_type": "markdown",
   "id": "f0d7597f",
   "metadata": {},
   "source": [
    "# Exercício Aula 06 - Gerando Redes Aleatórias e Small World\n",
    "\n",
    "Author: Gabriel Van Loon\n",
    "\n",
    "Prof.:  Francisco Aparecido Rodrigues\n",
    "\n",
    "Universidade de São Paulo, São Carlos, Brasil.\n"
   ]
  },
  {
   "cell_type": "markdown",
   "id": "ceaafe63",
   "metadata": {},
   "source": [
    "## Definindo as Funções e Bibliotecas utilizadas"
   ]
  },
  {
   "cell_type": "code",
   "execution_count": 1,
   "id": "95066816",
   "metadata": {},
   "outputs": [],
   "source": [
    "import collections\n",
    "import numpy as np\n",
    "import matplotlib.pyplot as plt\n",
    "import networkx as nx\n",
    "\n",
    "from scipy.stats import pearsonr, spearmanr\n",
    "\n",
    "from networkx.algorithms import community\n",
    "from networkx.algorithms.community import greedy_modularity_communities\n",
    "from community import community_louvain"
   ]
  },
  {
   "cell_type": "code",
   "execution_count": 43,
   "id": "d8fe81c7",
   "metadata": {},
   "outputs": [],
   "source": [
    "def degree_distribution(GER):\n",
    "    vk = dict(GER.degree())\n",
    "    vk = list(vk.values()) # we get only the degree values\n",
    "    maxk = np.max(vk)\n",
    "    mink = np.min(min)\n",
    "    kvalues= np.arange(0,maxk+1) # possible values of k\n",
    "    Pk = np.zeros(maxk+1) # P(k)\n",
    "    for k in vk:\n",
    "        Pk[k] = Pk[k] + 1\n",
    "    Pk = Pk/sum(Pk) # the sum of the elements of P(k) must to be equal to one\n",
    "    return kvalues,Pk\n",
    "\n",
    "def momment_of_degree_distribution(G,m):\n",
    "    k,Pk = degree_distribution(G)\n",
    "    M = sum((k**m)*Pk)\n",
    "    return M\n",
    "\n",
    "def shannon_entropy(G):\n",
    "    k,Pk = degree_distribution(G)\n",
    "    H = 0\n",
    "    for p in Pk:\n",
    "        if(p > 0):\n",
    "            H = H - p*np.math.log(p, 2)\n",
    "    return H\n",
    "\n",
    "\n",
    "def modularity(G, c):\n",
    "    \"\"\"\n",
    "    Calcula a modularidade da partição realizada na rede G nas c\n",
    "    comunidades. Outra opção é utilizar a função do networkx\n",
    "    networkx.algorithms.community.quality.modularity(G,c)\n",
    "    \"\"\"\n",
    "    A = nx.adjacency_matrix(G)\n",
    "    N = len(G)\n",
    "    M = G.number_of_edges()\n",
    "    Q = 0\n",
    "    for i in np.arange(0,N):\n",
    "        ki = len(list(G.neighbors(i)))\n",
    "        for j in np.arange(0,N):\n",
    "            if(c[i]==c[j]):\n",
    "                kj = len(list(G.neighbors(j)))\n",
    "                Q = Q + A[i,j]-(ki*kj)/(2*M)\n",
    "    Q = Q/(2*M)\n",
    "    return Q"
   ]
  },
  {
   "cell_type": "markdown",
   "id": "9ae3f615",
   "metadata": {},
   "source": [
    "## 1) Gere um grafo aleatório com N=1000 e p = 0.1. Qual o valor do grau médio, segundo momento do grau e coeficiente de aglormeração médio (average clustering coefficient)?"
   ]
  },
  {
   "cell_type": "code",
   "execution_count": 62,
   "id": "7f492ad8",
   "metadata": {},
   "outputs": [],
   "source": [
    "N, p = (1000, 0.1)\n",
    "G = nx.gnp_random_graph(N, p, seed=None, directed=False)"
   ]
  },
  {
   "cell_type": "code",
   "execution_count": 63,
   "id": "d41beac4",
   "metadata": {},
   "outputs": [
    {
     "name": "stdout",
     "output_type": "stream",
     "text": [
      "Average Degree: 99.348\n",
      "Second Moment 9961.887999999999\n",
      "Average clustering: 0.09969861159211599\n"
     ]
    }
   ],
   "source": [
    "avg_deg = 2*G.number_of_edges()/N\n",
    "moment  = momment_of_degree_distribution(G,2)\n",
    "clustering = nx.average_clustering(G)\n",
    "\n",
    "print(\"Average Degree:\", avg_deg)\n",
    "print(\"Second Moment\", moment)\n",
    "print(\"Average clustering:\", clustering)"
   ]
  },
  {
   "cell_type": "markdown",
   "id": "60a5215c",
   "metadata": {},
   "source": [
    "## 2) Gere um small-world com N=1000, grau médio igual 10 e p = 0.1. Qual o valor do grau médio, segundo momento do grau e coeficiente de aglormeração médio (average clustering coefficient)?"
   ]
  },
  {
   "cell_type": "code",
   "execution_count": 117,
   "id": "562d8ff7",
   "metadata": {},
   "outputs": [],
   "source": [
    "N, k, p = (1000, 10, 0.1)\n",
    "G = nx.watts_strogatz_graph(N, k, p, seed=None)"
   ]
  },
  {
   "cell_type": "code",
   "execution_count": 118,
   "id": "45ce273b",
   "metadata": {},
   "outputs": [
    {
     "name": "stdout",
     "output_type": "stream",
     "text": [
      "Average Degree: 10.0\n",
      "Second Moment 100.904\n",
      "Average clustering: 0.49868802308802385\n"
     ]
    }
   ],
   "source": [
    "avg_deg = 2*G.number_of_edges()/N\n",
    "moment  = momment_of_degree_distribution(G,2)\n",
    "clustering = nx.average_clustering(G)\n",
    "\n",
    "print(\"Average Degree:\", avg_deg)\n",
    "print(\"Second Moment\", moment)\n",
    "print(\"Average clustering:\", clustering)"
   ]
  },
  {
   "cell_type": "markdown",
   "id": "44dd359d",
   "metadata": {},
   "source": [
    "## 3 ) Considere uma rede aleatória (Erdos-Renyi) com N=1000 vértices. Qual o valor da entropia de Shannon do grau para 〈𝑘〉= 5, 〈𝑘〉=10,〈𝑘〉=50"
   ]
  },
  {
   "cell_type": "code",
   "execution_count": 47,
   "id": "93058073",
   "metadata": {},
   "outputs": [],
   "source": [
    "N, p = (1000, 0.005) # <k> = 5\n",
    "G1 = nx.gnp_random_graph(N, p, seed=None, directed=False)\n",
    "\n",
    "N, p = (1000, 0.01) # <k> = 10\n",
    "G2 = nx.gnp_random_graph(N, p, seed=None, directed=False)\n",
    "\n",
    "N, p = (1000, 0.05) # <k> = 50\n",
    "G3 = nx.gnp_random_graph(N, p, seed=None, directed=False)\n",
    "\n",
    "# o <k> é o primeiro momento, então eu preciso forçar o momento a ser 5?\n",
    "# print(momment_of_degree_distribution(G,1))"
   ]
  },
  {
   "cell_type": "code",
   "execution_count": 48,
   "id": "0c18efef",
   "metadata": {},
   "outputs": [
    {
     "name": "stdout",
     "output_type": "stream",
     "text": [
      "Shannon Entropy =  3.1078\n",
      "Shannon Entropy =  3.6159\n",
      "Shannon Entropy =  4.7820\n"
     ]
    }
   ],
   "source": [
    "print(\"Shannon Entropy = \", \"%3.4f\"%shannon_entropy(G1))\n",
    "print(\"Shannon Entropy = \", \"%3.4f\"%shannon_entropy(G2))\n",
    "print(\"Shannon Entropy = \", \"%3.4f\"%shannon_entropy(G3))"
   ]
  },
  {
   "cell_type": "markdown",
   "id": "215ad25b",
   "metadata": {},
   "source": [
    "## 4) Para o modelo small-world, calcule o valor da menor distância média (average shortest path) para p=0; p=0.01; p=0.05 e p=0.1. Considere grau médio igual a 4 e N = 100."
   ]
  },
  {
   "cell_type": "code",
   "execution_count": 119,
   "id": "de8f2a15",
   "metadata": {},
   "outputs": [],
   "source": [
    "AVG1 = []\n",
    "AVG2 = []\n",
    "AVG3 = []\n",
    "AVG4 = []\n",
    "\n",
    "for i in range(30):\n",
    "    N, k, p = (100, 4, 0)\n",
    "    G1 = nx.connected_watts_strogatz_graph(N, k, p, seed=None)\n",
    "\n",
    "    N, k, p = (100, 4, 0.01)\n",
    "    G2 = nx.connected_watts_strogatz_graph(N, k, p, seed=None)\n",
    "\n",
    "    N, k, p = (100, 4, 0.05)\n",
    "    G3 = nx.connected_watts_strogatz_graph(N, k, p, seed=None)\n",
    "\n",
    "    N, k, p = (100, 4, 0.1)\n",
    "    G4 = nx.connected_watts_strogatz_graph(N, k, p, seed=None)\n",
    "    \n",
    "    AVG1.append(nx.average_shortest_path_length(G1))\n",
    "    AVG2.append(nx.average_shortest_path_length(G2))\n",
    "    AVG3.append(nx.average_shortest_path_length(G3))\n",
    "    AVG4.append(nx.average_shortest_path_length(G4))"
   ]
  },
  {
   "cell_type": "code",
   "execution_count": 120,
   "id": "4f7df8db",
   "metadata": {},
   "outputs": [
    {
     "name": "stdout",
     "output_type": "stream",
     "text": [
      "Avg. shortest path len (0.00) 12.878787878787879\n",
      "Avg. shortest path len (0.01) 10.034329966329967\n",
      "Avg. shortest path len (0.05) 6.258309764309765\n",
      "Avg. shortest path len (0.10) 5.139508417508417\n"
     ]
    }
   ],
   "source": [
    "    print(\"Avg. shortest path len (0.00)\", np.average(AVG1))\n",
    "    print(\"Avg. shortest path len (0.01)\", np.average(AVG2))\n",
    "    print(\"Avg. shortest path len (0.05)\", np.average(AVG3))\n",
    "    print(\"Avg. shortest path len (0.10)\", np.average(AVG4))"
   ]
  },
  {
   "cell_type": "markdown",
   "id": "37c8d40c",
   "metadata": {},
   "source": [
    "## 5) Considere o modelo de Erdos-Renyi. Gere redes com grau médio igual a 5, 10 e 50 e N=1000. Qual o valor da assortatividade?"
   ]
  },
  {
   "cell_type": "code",
   "execution_count": 102,
   "id": "970bf7f5",
   "metadata": {},
   "outputs": [],
   "source": [
    "ASS1 = []\n",
    "ASS2 = []\n",
    "ASS3 = []\n",
    "\n",
    "for i in range(30):\n",
    "    N, p = (1000, 0.005) # <k> = 5\n",
    "    G1 = nx.gnp_random_graph(N, p, seed=None, directed=False)\n",
    "\n",
    "    N, p = (1000, 0.01) # <k> = 10\n",
    "    G2 = nx.gnp_random_graph(N, p, seed=None, directed=False)\n",
    "\n",
    "    N, p = (1000, 0.05) # <k> = 50\n",
    "    G3 = nx.gnp_random_graph(N, p, seed=None, directed=False)\n",
    "\n",
    "    ASS1.append(nx.degree_assortativity_coefficient(G1))\n",
    "    ASS2.append(nx.degree_assortativity_coefficient(G2))\n",
    "    ASS3.append(nx.degree_assortativity_coefficient(G3))"
   ]
  },
  {
   "cell_type": "code",
   "execution_count": 103,
   "id": "bd140931",
   "metadata": {},
   "outputs": [
    {
     "name": "stdout",
     "output_type": "stream",
     "text": [
      "Average Degree: 5.058\n",
      "Assortativity (k=5) -0.005378833808663564\n",
      "Average Degree: 10.162\n",
      "Assortativity (k=10) -0.003440663938922668\n",
      "Average Degree: 50.06\n",
      "Assortativity (k=50) -0.001366540466317087\n"
     ]
    }
   ],
   "source": [
    "print(\"Average Degree:\", 2*G1.number_of_edges()/N)\n",
    "print(\"Assortativity (k=5)\", np.average(ASS1))\n",
    "print(\"Average Degree:\", 2*G2.number_of_edges()/N)\n",
    "print(\"Assortativity (k=10)\", np.average(ASS2))\n",
    "print(\"Average Degree:\", 2*G3.number_of_edges()/N)\n",
    "print(\"Assortativity (k=50)\", np.average(ASS3))"
   ]
  },
  {
   "cell_type": "markdown",
   "id": "23144224",
   "metadata": {},
   "source": [
    "## 6) Considere o modelo small-world. Gere redes com grau médio 10 e N=1000. Qual o valor da assortatividade para p=0.01; 0.05 e 0.2?"
   ]
  },
  {
   "cell_type": "code",
   "execution_count": 121,
   "id": "2e7f79f7",
   "metadata": {},
   "outputs": [],
   "source": [
    "ASS1 = []\n",
    "ASS2 = []\n",
    "ASS3 = []\n",
    "\n",
    "for i in range(30):\n",
    "    N, k, p = (1000, 10, 0.01)\n",
    "    G1 = nx.watts_strogatz_graph(N, k, p, seed=None)\n",
    "\n",
    "    N, k, p = (1000, 10, 0.05)\n",
    "    G2 = nx.watts_strogatz_graph(N, k, p, seed=None)\n",
    "\n",
    "    N, k, p = (1000, 10, 0.1)\n",
    "    G3 = nx.watts_strogatz_graph(N, k, p, seed=None)\n",
    "\n",
    "    ASS1.append(nx.degree_assortativity_coefficient(G1))\n",
    "    ASS2.append(nx.degree_assortativity_coefficient(G2))\n",
    "    ASS3.append(nx.degree_assortativity_coefficient(G3))"
   ]
  },
  {
   "cell_type": "code",
   "execution_count": 122,
   "id": "a07e71b4",
   "metadata": {},
   "outputs": [
    {
     "name": "stdout",
     "output_type": "stream",
     "text": [
      "Assortativity (p=0.01) 0.0015758464283129666\n",
      "Assortativity (p=0.05) -0.004606497818592103\n",
      "Assortativity (p=0.10) -0.007041437816310548\n"
     ]
    }
   ],
   "source": [
    "print(\"Assortativity (p=0.01)\", np.average(ASS1))\n",
    "print(\"Assortativity (p=0.05)\", np.average(ASS2))\n",
    "print(\"Assortativity (p=0.10)\", np.average(ASS3))"
   ]
  },
  {
   "cell_type": "code",
   "execution_count": null,
   "id": "ff191019",
   "metadata": {},
   "outputs": [],
   "source": []
  }
 ],
 "metadata": {
  "kernelspec": {
   "display_name": "Python 3",
   "language": "python",
   "name": "python3"
  },
  "language_info": {
   "codemirror_mode": {
    "name": "ipython",
    "version": 3
   },
   "file_extension": ".py",
   "mimetype": "text/x-python",
   "name": "python",
   "nbconvert_exporter": "python",
   "pygments_lexer": "ipython3",
   "version": "3.8.10"
  }
 },
 "nbformat": 4,
 "nbformat_minor": 5
}
