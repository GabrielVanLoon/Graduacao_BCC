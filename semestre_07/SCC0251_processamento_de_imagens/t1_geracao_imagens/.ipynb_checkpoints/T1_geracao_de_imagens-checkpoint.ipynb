{
 "cells": [
  {
   "cell_type": "markdown",
   "id": "81303213",
   "metadata": {},
   "source": [
    "# Trabalho 1 - Geração de Images \n",
    "\n",
    "- **Disciplina:** SCC0251 - Processamento de Imagens \n",
    "- **Prof.** Lizeth Andrea Castellanos Beltran\n",
    "- **Autor:** Gabriel Van Loon Bode da Costa (10391607)\n",
    "- **Data:** abril/2021\n",
    "\n",
    "### Objetivo do Trabalho\n",
    "\n",
    "Utilizar funções matemáticas para a geração de imagens com o objetivo de familizar o uso das ferramentas e reforçar o conceito de amostragem de imagens. O programa irá primeiro criar uma imagem sintética por meios de uma das 5 funções pré-definidas e em seguida simular o processo de amostragem sobre a mesma."
   ]
  },
  {
   "cell_type": "code",
   "execution_count": 1,
   "id": "e976e6de",
   "metadata": {},
   "outputs": [],
   "source": [
    "import imageio as img\n",
    "import numpy as np\n",
    "import random\n",
    "import math"
   ]
  },
  {
   "cell_type": "markdown",
   "id": "fb1ac789",
   "metadata": {},
   "source": [
    "### 1ª Etapa - Leitura dos Parâmetros\n",
    "\n",
    "O programa recebe como entrada 7 parâmetros: o nome da imagem de referencia (`R`), o tamanho da imagem sintetizada (`C`), a função gerador (`F = {1,...,5}`), o parâmetro `Q` usado em algumas das funções, o tamanho lateral da imagem amostrada (`N`), o número de bits por pixel (`B = {1,...,8}`) e a semente inicial para os valores aleatórios (`S`)."
   ]
  },
  {
   "cell_type": "code",
   "execution_count": 2,
   "id": "f455353f",
   "metadata": {},
   "outputs": [
    {
     "name": "stdout",
     "output_type": "stream",
     "text": [
      "images/ex5.npy\n",
      "512\n",
      "5\n",
      "1\n",
      "256\n",
      "8\n",
      "6666\n"
     ]
    }
   ],
   "source": [
    "# Caso de teste 1: R=ex1.npy C=512 F=1 Q=2 N=256 B=4 S=1\n",
    "# Caso de teste 2: R=ex2.npy C=512 F=2 Q=32 N=256 B=6 S=1\n",
    "# Caso de teste 3: R=ex3.npy C=512 F=3 Q=1001 N=256 B=3 S=1\n",
    "# Caso de teste 4: R=ex4.npy C=512 F=4 Q=1 N=256 B=3 S=13\n",
    "# Caso de teste 5: R=ex5.npy C=512 F=5 Q=1 N=256 B=8 S=6666\n",
    "R = input().rstrip()\n",
    "C = int(input().rstrip())\n",
    "F = int(input().rstrip())\n",
    "Q = int(input().rstrip())\n",
    "N = int(input().rstrip())\n",
    "B = int(input().rstrip())\n",
    "S = int(input().rstrip()) "
   ]
  },
  {
   "cell_type": "code",
   "execution_count": 16,
   "id": "b60e030c",
   "metadata": {},
   "outputs": [],
   "source": [
    "# Iniciando a Semente Aleatória do programa\n",
    "random.seed(S)"
   ]
  },
  {
   "cell_type": "markdown",
   "id": "936ebe5c",
   "metadata": {},
   "source": [
    "### 2ª Etapa - Definindo e Usando as Funções Geradoras\n",
    "\n",
    "Nessa etapa iremos criar uma matriz de tamanho CxC utilzando uma das 5 funções geradoras definidas a seguir:"
   ]
  },
  {
   "cell_type": "code",
   "execution_count": 18,
   "id": "59fa7e10",
   "metadata": {},
   "outputs": [],
   "source": [
    "def generator1(image, Q=False):\n",
    "    for x in range(0,len(image)):\n",
    "        for y in range(0,len(image)):\n",
    "            image[x,y] = x*y + 2*y\n",
    "\n",
    "def generator2(image, Q=1.0):\n",
    "    for x in range(0,len(image)):\n",
    "        for y in range(0,len(image)):\n",
    "            image[x,y] = np.abs(np.cos(x/Q) + 2*np.sin(y/Q))\n",
    "\n",
    "def generator3(image, Q=1.0):\n",
    "    for x in range(0,len(image)):\n",
    "        for y in range(0,len(image)):\n",
    "            image[x,y] = np.abs(3*(x/Q) - np.cbrt(y/Q))\n",
    "\n",
    "def generator4(image, Q=False):\n",
    "    for y in range(0,len(image)):\n",
    "        for x in range(0,len(image)):\n",
    "            image[x,y] = random.random()\n",
    "\n",
    "def generator5(image, Q=False):\n",
    "    x,y = (0,0)\n",
    "    for step in range(1+C*C):\n",
    "        image[x,y] = 1.0\n",
    "        dx = random.randint(-1,1)\n",
    "        dy = random.randint(-1,1)\n",
    "        x,y = ((x+dx)%C, (y+dy)%C) \n",
    "\n",
    "# Encapsula todas as funcoes em um array de funcoes para ser utilizado em seguida\n",
    "image_generators = [False, generator1, generator2, generator3, generator4, generator5]"
   ]
  },
  {
   "cell_type": "code",
   "execution_count": 19,
   "id": "44444a1d",
   "metadata": {},
   "outputs": [],
   "source": [
    "# Generating the image\n",
    "synth_image = np.zeros((C,C), dtype=float)\n",
    "image_generators[F](synth_image, Q)"
   ]
  },
  {
   "cell_type": "markdown",
   "id": "879cfab4",
   "metadata": {},
   "source": [
    "### 3ª Etapa - Amostragem da Imagem (Downsampling)\n",
    "\n",
    "Como queremos gerar uma imagem de tamanho `N <= C` iremos dividir a imagem sintetizada em regiões de tamanho N² e utilizar um método simples de amostragem que escolhe sempre o primeiro elemento de cada região (Outras opções poderiam ser: pegar o valor médio, o máximo, o mínimo, ou aplicar alguma outra lógica)"
   ]
  },
  {
   "cell_type": "code",
   "execution_count": 20,
   "id": "54aa1810",
   "metadata": {},
   "outputs": [],
   "source": [
    "sampled_image = np.zeros((N,N), dtype=float)\n",
    "\n",
    "# Basic Downsampling\n",
    "for x in range(0,len(sampled_image)):\n",
    "    for y in range(0,len(sampled_image)):\n",
    "        sampled_image[x,y] = synth_image[int((C/N))*x, int((C/N))*y]"
   ]
  },
  {
   "cell_type": "markdown",
   "id": "08624701",
   "metadata": {},
   "source": [
    "### 4ª Etapa - Quantização\n",
    "\n",
    "Nesta etapa iremos normalizar os valores obtidos até então para o intervalo `[0,255]`, para em seguida converter os dados para o tipo `uint8`. Em seguida iremos transforma os valore para que sejam representados por apenas `B` bits de informação."
   ]
  },
  {
   "cell_type": "code",
   "execution_count": 21,
   "id": "10af63bb",
   "metadata": {},
   "outputs": [],
   "source": [
    "# Normalize values from [min_pixel, max_pixel](float) to [0, 255](uint32)\n",
    "norm_image = sampled_image - sampled_image.min()\n",
    "norm_image = norm_image / norm_image.max()\n",
    "norm_image = norm_image * 255.0\n",
    "norm_image = norm_image.astype(np.uint8)"
   ]
  },
  {
   "cell_type": "code",
   "execution_count": 22,
   "id": "5e4fea21",
   "metadata": {},
   "outputs": [],
   "source": [
    "# Select the first B bits and remove the rest\n",
    "norm_image = norm_image >> (8-B)\n",
    "norm_image = norm_image << (8-B)"
   ]
  },
  {
   "cell_type": "markdown",
   "id": "93b14645",
   "metadata": {},
   "source": [
    "### Etapa Extra - Visualizando a imagem gerada\n",
    "\n",
    "Para visualizarmos a imagem gerada podemos descomentar os trechos de código a seguir"
   ]
  },
  {
   "cell_type": "code",
   "execution_count": 23,
   "id": "97c3dbd8",
   "metadata": {},
   "outputs": [],
   "source": [
    "# import matplotlib.pyplot as plt"
   ]
  },
  {
   "cell_type": "code",
   "execution_count": 24,
   "id": "28e1e557",
   "metadata": {},
   "outputs": [
    {
     "data": {
      "image/png": "[encoded data removed]",
      "text/plain": [
       "<Figure size 432x288 with 1 Axes>"
      ]
     },
     "metadata": {
      "needs_background": "light"
     },
     "output_type": "display_data"
    }
   ],
   "source": [
    "# plt.imshow(norm_image, cmap='gray')\n",
    "# plt.show()"
   ]
  },
  {
   "cell_type": "markdown",
   "id": "c49a66ed",
   "metadata": {},
   "source": [
    "### 5ª Etapa - Comparando com a Referência\n",
    "\n",
    "No primeiro parâmetro lido recebemos o caminho da imagem de referência que deveria ser resultante do caso de teste. Nesta etapa vamos carregar essa imagem e calcular a Raiz do Erro Quadrático (RSE) para verificar quão próximo chegamos do resultado correto."
   ]
  },
  {
   "cell_type": "code",
   "execution_count": 25,
   "id": "db348ea5",
   "metadata": {},
   "outputs": [],
   "source": [
    "# Load reference image\n",
    "reference_image = np.load(R)"
   ]
  },
  {
   "cell_type": "code",
   "execution_count": 26,
   "id": "e9efa6a5",
   "metadata": {},
   "outputs": [
    {
     "data": {
      "image/png": "[encoded data removed]",
      "text/plain": [
       "<Figure size 432x288 with 1 Axes>"
      ]
     },
     "metadata": {
      "needs_background": "light"
     },
     "output_type": "display_data"
    }
   ],
   "source": [
    "# Visualize the reference image\n",
    "# plt.imshow(reference_image, cmap='gray')\n",
    "# plt.show()"
   ]
  },
  {
   "cell_type": "code",
   "execution_count": 27,
   "id": "f9e3854b",
   "metadata": {},
   "outputs": [],
   "source": [
    "# Calculating the error \n",
    "error = 0.0\n",
    "for x in range(0,len(norm_image)):\n",
    "    for y in range(0,len(norm_image)):\n",
    "        error += (float(norm_image[x,y]-reference_image[x,y])) * (float(norm_image[x,y]-reference_image[x,y]))\n",
    "error = np.sqrt(error)"
   ]
  },
  {
   "cell_type": "code",
   "execution_count": 28,
   "id": "17139e50",
   "metadata": {},
   "outputs": [
    {
     "name": "stdout",
     "output_type": "stream",
     "text": [
      "0.0000\n"
     ]
    }
   ],
   "source": [
    "# Printing the final error\n",
    "print(format(error, \".4f\"))"
   ]
  },
  {
   "cell_type": "code",
   "execution_count": 29,
   "id": "534f6a67",
   "metadata": {},
   "outputs": [],
   "source": [
    "# Test 1: OK\n",
    "# Test 2: OK\n",
    "# Test 3: OK\n",
    "# Test 4: OK\n",
    "# Test 5: OK"
   ]
  }
 ],
 "metadata": {
  "kernelspec": {
   "display_name": "Python 3",
   "language": "python",
   "name": "python3"
  },
  "language_info": {
   "codemirror_mode": {
    "name": "ipython",
    "version": 3
   },
   "file_extension": ".py",
   "mimetype": "text/x-python",
   "name": "python",
   "nbconvert_exporter": "python",
   "pygments_lexer": "ipython3",
   "version": "3.8.5"
  }
 },
 "nbformat": 4,
 "nbformat_minor": 5
}
