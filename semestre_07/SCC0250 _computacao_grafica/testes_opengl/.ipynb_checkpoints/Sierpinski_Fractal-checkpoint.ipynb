{
 "cells": [
  {
   "cell_type": "markdown",
   "id": "c9f1a0ba",
   "metadata": {},
   "source": [
    "# Sierpinski Triangle (Fractal)\n",
    "\n",
    "In this notebook we are gonna try to achieve two objectives\n",
    "\n",
    "- Create and Undertand a basic OpenGL + GLFW program\n",
    "- Create a Sierpinsk Triangle using a Chaos Game and simple dots"
   ]
  },
  {
   "cell_type": "code",
   "execution_count": 1,
   "id": "7be15947",
   "metadata": {},
   "outputs": [],
   "source": [
    "# Basic configurations to use along the program\n",
    "WINDOW_WIDTH = 600\n",
    "WINDOW_HEIGHT = 600\n",
    "NUMBER_OF_DOTS = 100000"
   ]
  },
  {
   "cell_type": "markdown",
   "id": "61ee335d",
   "metadata": {},
   "source": [
    "# Part 1 - Prepare a Window using GLFW "
   ]
  },
  {
   "cell_type": "code",
   "execution_count": 2,
   "id": "f2f856f5",
   "metadata": {},
   "outputs": [],
   "source": [
    "import glfw\n",
    "from OpenGL.GL import *\n",
    "import OpenGL.GL.shaders\n",
    "import numpy as np"
   ]
  },
  {
   "cell_type": "markdown",
   "id": "ca0e0040",
   "metadata": {},
   "source": [
    "The first thing we need to do is create a Window object with the desirable settings with the GLFW API.\n",
    "\n",
    "*Obs: the window is not visible yet. It will appear when all the shaders and fragments finish loading*"
   ]
  },
  {
   "cell_type": "code",
   "execution_count": 3,
   "id": "8dbd1d7a",
   "metadata": {},
   "outputs": [],
   "source": [
    "# Starting the GLFW Windows (Communicate with the X Terminal API)\n",
    "glfw.init()\n",
    "glfw.window_hint(glfw.VISIBLE, glfw.FALSE)\n",
    "glfw.window_hint(glfw.RESIZABLE, glfw.FALSE)\n",
    "window = glfw.create_window(WINDOW_WIDTH, WINDOW_HEIGHT, \"Sierpinski Fractal\", None, None)\n",
    "glfw.make_context_current(window)"
   ]
  },
  {
   "cell_type": "markdown",
   "id": "23279212",
   "metadata": {},
   "source": [
    "# Part 2  - Prepare the OpenGL program\n",
    "\n",
    "When working with OpenGL we need to use the GLSL (OpenGL Shading Language), a C-like graphic program language that helps us to create shaders and fragments to be compiled, linked and used on ours GPU or graphic processor unity.\n",
    "\n",
    "We can think a shader as a mini-program that will execute every time we want to print different primitives and forms using our program.\n",
    "\n",
    "First we need to create a program and prepare a vertex and a fragment shader to be used on this notebook."
   ]
  },
  {
   "cell_type": "code",
   "execution_count": 4,
   "id": "4210222f",
   "metadata": {},
   "outputs": [],
   "source": [
    "# Request a program and shader slots from GPU\n",
    "program  = glCreateProgram()\n",
    "vertex   = glCreateShader(GL_VERTEX_SHADER)\n",
    "fragment = glCreateShader(GL_FRAGMENT_SHADER)"
   ]
  },
  {
   "cell_type": "markdown",
   "id": "8a88ac18",
   "metadata": {},
   "source": [
    "Now lets create our Vertex Shader that will help us to render all the dots. For this we just need a basic program that receive 2D-positions for each point. \n",
    "\n",
    "We also will need the three starting points to create our outer triangle."
   ]
  },
  {
   "cell_type": "code",
   "execution_count": 5,
   "id": "dfc860a4",
   "metadata": {},
   "outputs": [],
   "source": [
    "vertex_code = \"\"\"\n",
    "    attribute vec2 position;\n",
    "    void main(){ \n",
    "        gl_Position = vec4(position, 0.0, 1.0);\n",
    "    }\n",
    "\"\"\""
   ]
  },
  {
   "cell_type": "markdown",
   "id": "93afe750",
   "metadata": {},
   "source": [
    "We also need to create a fragment for the vertex, the fragment will define some properties like the color of the dots."
   ]
  },
  {
   "cell_type": "code",
   "execution_count": 6,
   "id": "9c99c068",
   "metadata": {},
   "outputs": [],
   "source": [
    "fragment_code = \"\"\"\n",
    "    attribute vec3 color;\n",
    "    void main(){\n",
    "        gl_FragColor = vec4(0.0, 0.0, 0.0, 1.0);\n",
    "    }\n",
    "\"\"\""
   ]
  },
  {
   "cell_type": "code",
   "execution_count": 7,
   "id": "25cad299",
   "metadata": {},
   "outputs": [],
   "source": [
    "# Set shaders source code\n",
    "glShaderSource(vertex, vertex_code)\n",
    "glShaderSource(fragment, fragment_code)\n",
    "\n",
    "# Compiling vertex shader\n",
    "glCompileShader(vertex)\n",
    "if not glGetShaderiv(vertex, GL_COMPILE_STATUS):\n",
    "    error = glGetShaderInfoLog(vertex).decode()\n",
    "    print(error)\n",
    "    raise RuntimeError(\"Erro de compilacao do Vertex Shader\")\n",
    "\n",
    "# Compile fragment shader\n",
    "glCompileShader(fragment)\n",
    "if not glGetShaderiv(fragment, GL_COMPILE_STATUS):\n",
    "    error = glGetShaderInfoLog(fragment).decode()\n",
    "    print(error)\n",
    "    raise RuntimeError(\"Erro de compilacao do Fragment Shader\")\n",
    "    \n",
    "# If success atach the compiled codes to the program\n",
    "glAttachShader(program, vertex)\n",
    "glAttachShader(program, fragment)\n",
    "\n",
    "# Build program\n",
    "glLinkProgram(program)\n",
    "if not glGetProgramiv(program, GL_LINK_STATUS):\n",
    "    print(glGetProgramInfoLog(program))\n",
    "    raise RuntimeError('Linking error')\n",
    "    \n",
    "# Make program the default program\n",
    "glUseProgram(program)"
   ]
  },
  {
   "cell_type": "markdown",
   "id": "f275223e",
   "metadata": {},
   "source": [
    "# Part 3 - Compute the Sierpinski Fractal with Random Points\n",
    "\n",
    "Using a chaos game, we can start the following rules to draw a Sierpinski fractal:\n",
    "\n",
    "1. Pick an initial point p = (x, y, 0) at random inside the triangle.\n",
    "2. Select one of the three vertices at random.\n",
    "3. Find the point q halfway between p and the randomly selected vertex.\n",
    "4. Display q by putting some sort of marker, such as a small circle, at the corresponding location on the display.\n",
    "5. Replace p with q.\n",
    "6. Return to step 2 until N dots are printed in the screen\n",
    "\n",
    "*Algorithm Font: ANGEL - Interactive Computer Graphics*"
   ]
  },
  {
   "cell_type": "code",
   "execution_count": 8,
   "id": "fc7ce330",
   "metadata": {
    "scrolled": true
   },
   "outputs": [],
   "source": [
    "import random\n",
    "\n",
    "# Init all variables needed\n",
    "triangle    = np.zeros(3, [(\"position\", np.float32, 2)])\n",
    "vertices    = np.zeros(NUMBER_OF_DOTS, [(\"position\", np.float32, 2)])\n",
    "\n",
    "# Start tringle edges and start point\n",
    "triangle['position'] = [(-1.0, -1.0), (0.0, 1.0), (1.0, -1.0) ]\n",
    "vertices['position'][0] = (0.25, 0.50)\n",
    "\n",
    "# Select the follow (N-1) random points\n",
    "for i in range(1, NUMBER_OF_DOTS): \n",
    "    v = random.randint(0,2)\n",
    "    # Compute the point halfway between the selected vertex\n",
    "    vertices['position'][i] = (vertices['position'][i-1] + triangle['position'][v]) / 2.0\n",
    "    "
   ]
  },
  {
   "cell_type": "markdown",
   "id": "d8dbfb85",
   "metadata": {},
   "source": [
    "# Part 4 - Request the Buffer and send values to GPU\n",
    "\n",
    "Now that our program already has all the point already computed we need to ask the gpu to reserve some space and send all the values. For this we are gonna use the OpenGL API as show bellow."
   ]
  },
  {
   "cell_type": "code",
   "execution_count": 9,
   "id": "2953987e",
   "metadata": {},
   "outputs": [],
   "source": [
    "# Request a buffer slot from GPU and make it the default one\n",
    "buffer = glGenBuffers(1)\n",
    "glBindBuffer(GL_ARRAY_BUFFER, buffer)\n",
    "                      \n",
    "# Send the point to buffer\n",
    "glBufferData(GL_ARRAY_BUFFER, vertices.nbytes, vertices, GL_DYNAMIC_DRAW)                 "
   ]
  },
  {
   "cell_type": "markdown",
   "id": "1d128888",
   "metadata": {},
   "source": [
    "At least, we need to request OpenGL to locate the `positions` variable in our loaded vertex shader so we can associate the `vertices[]` values to the shader when ask the GPU to print the primitives.\n",
    "\n",
    "*Obs: I'm not so sure why we need the stride but lets ignore this right now`"
   ]
  },
  {
   "cell_type": "code",
   "execution_count": 10,
   "id": "92cdf82b",
   "metadata": {},
   "outputs": [],
   "source": [
    "# get some important values because reasons\n",
    "stride = vertices.strides[0]\n",
    "offset = ctypes.c_void_p(0)\n",
    "\n",
    "# get position variable location\n",
    "loc = glGetAttribLocation(program, \"position\")\n",
    "glEnableVertexAttribArray(loc)\n",
    "\n",
    "# Bind the position to loc, here we say that we want a two positions Float values\n",
    "glVertexAttribPointer(loc, 2, GL_FLOAT, False, stride, offset)"
   ]
  },
  {
   "cell_type": "markdown",
   "id": "add4e2d1",
   "metadata": {},
   "source": [
    "# Part 5 - Show the Window and Print the Fractal"
   ]
  },
  {
   "cell_type": "code",
   "execution_count": 11,
   "id": "ebd5b8ec",
   "metadata": {},
   "outputs": [],
   "source": [
    "glfw.show_window(window)\n",
    "\n",
    "while not glfw.window_should_close(window):\n",
    "    # Event poll (not using right now but cannot be removed from this loop!!!)\n",
    "    glfw.poll_events() \n",
    "    \n",
    "    # Reset the screen with the white color\n",
    "    glClear(GL_COLOR_BUFFER_BIT) \n",
    "    glClearColor(1.0, 1.0, 1.0, 1.0)\n",
    "    \n",
    "    # Draw all the points\n",
    "    glDrawArrays(GL_POINTS, 0, NUMBER_OF_DOTS)\n",
    "\n",
    "    glfw.swap_buffers(window)\n",
    "glfw.terminate()"
   ]
  },
  {
   "attachments": {
    "Sierpinski_Fractal.png": {
     "image/png": "[encoded data removed]"
    }
   },
   "cell_type": "markdown",
   "id": "41cce3eb",
   "metadata": {},
   "source": [
    "If everything gone well we should see the result as the image below:\n",
    "\n",
    "![Sierpinski_Fractal.png](attachment:Sierpinski_Fractal.png)\n",
    "\n",
    "And that is it, we done a awesome fractal with only dots and OpenGL"
   ]
  }
 ],
 "metadata": {
  "kernelspec": {
   "display_name": "Python 3",
   "language": "python",
   "name": "python3"
  },
  "language_info": {
   "codemirror_mode": {
    "name": "ipython",
    "version": 3
   },
   "file_extension": ".py",
   "mimetype": "text/x-python",
   "name": "python",
   "nbconvert_exporter": "python",
   "pygments_lexer": "ipython3",
   "version": "3.8.5"
  }
 },
 "nbformat": 4,
 "nbformat_minor": 5
}
