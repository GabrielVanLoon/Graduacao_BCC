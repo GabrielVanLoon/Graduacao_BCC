{
 "cells": [
  {
   "cell_type": "markdown",
   "id": "47e5b70d",
   "metadata": {},
   "source": [
    "# Exercício Prático 01 - Desenhos Abstratos\n",
    "\n",
    "\n",
    "- **Author:** Gabriel Van Loon\n",
    "- **Data:** Abril/2021\n",
    "- **Objetivo:** Utilizar ao menos uma vez as primitivas de linha, ponto, triângulos, quadrados e circulos para gerar um desenho abstrato na tela. Imprima também objetos com cores diferentes."
   ]
  },
  {
   "cell_type": "markdown",
   "id": "f35a3f9e",
   "metadata": {},
   "source": [
    "### Bibliotecas e Parâmetros Globais"
   ]
  },
  {
   "cell_type": "code",
   "execution_count": 1,
   "id": "54eafa13",
   "metadata": {},
   "outputs": [],
   "source": [
    "import glfw\n",
    "from OpenGL.GL import *\n",
    "import OpenGL.GL.shaders\n",
    "import numpy as np"
   ]
  },
  {
   "cell_type": "code",
   "execution_count": 2,
   "id": "57efd10a",
   "metadata": {},
   "outputs": [],
   "source": [
    "WINDOW_WIDTH = 600\n",
    "WINDOW_HEIGHT = 600\n",
    "\n",
    "vertices = []"
   ]
  },
  {
   "cell_type": "markdown",
   "id": "fcf0df65",
   "metadata": {},
   "source": [
    "A seguir também declaramos algumas variáveis que serão globais para os shaders"
   ]
  },
  {
   "cell_type": "code",
   "execution_count": 3,
   "id": "75433b94",
   "metadata": {},
   "outputs": [],
   "source": [
    "uniform_time_value = 0.00"
   ]
  },
  {
   "cell_type": "markdown",
   "id": "e2afa3df",
   "metadata": {},
   "source": [
    "### Funções para definição de Janelas\n",
    "\n",
    "Encapsula as funções que criam a única e principal janela do programa."
   ]
  },
  {
   "cell_type": "code",
   "execution_count": 4,
   "id": "dcce2f18",
   "metadata": {},
   "outputs": [],
   "source": [
    "def configure_window():\n",
    "    glfw.init()\n",
    "    glfw.window_hint(glfw.VISIBLE, glfw.FALSE)\n",
    "    glfw.window_hint(glfw.RESIZABLE, glfw.FALSE)\n",
    "    window = glfw.create_window(WINDOW_WIDTH, WINDOW_HEIGHT, \"Computer Graphics 101\", None, None)\n",
    "    glfw.make_context_current(window)\n",
    "    return window\n",
    "\n",
    "# Starting window\n",
    "window = configure_window()"
   ]
  },
  {
   "cell_type": "markdown",
   "id": "352b2c01",
   "metadata": {},
   "source": [
    "### Classe para Criação de Shaders\n",
    "\n",
    "Encapsula as funções que permitem criar e utilizar um determinado shader"
   ]
  },
  {
   "cell_type": "code",
   "execution_count": 5,
   "id": "5822c838",
   "metadata": {},
   "outputs": [],
   "source": [
    "class Shader:\n",
    "    def __init__(self, vertex_code = \"\", fragment_code = \"\"):\n",
    "        self.program = glCreateProgram()\n",
    "        \n",
    "        # Create the vertex and shader program\n",
    "        vertex   = glCreateShader(GL_VERTEX_SHADER)\n",
    "        fragment = glCreateShader(GL_FRAGMENT_SHADER)\n",
    "        \n",
    "        # Set shaders sources code\n",
    "        glShaderSource(vertex, vertex_code)\n",
    "        glShaderSource(fragment, fragment_code)\n",
    "        \n",
    "        # Compiling vertex shader\n",
    "        glCompileShader(vertex)\n",
    "        if not glGetShaderiv(vertex, GL_COMPILE_STATUS):\n",
    "            error = glGetShaderInfoLog(vertex).decode()\n",
    "            print(error)\n",
    "            raise RuntimeError(\"Erro de compilacao do Vertex Shader\")\n",
    "        \n",
    "        # Compile fragment shader\n",
    "        glCompileShader(fragment)\n",
    "        if not glGetShaderiv(fragment, GL_COMPILE_STATUS):\n",
    "            error = glGetShaderInfoLog(fragment).decode()\n",
    "            print(error)\n",
    "            raise RuntimeError(\"Erro de compilacao do Fragment Shader\")\n",
    "            \n",
    "        # If success atach the compiled codes to the program\n",
    "        glAttachShader(self.program, vertex)\n",
    "        glAttachShader(self.program, fragment)\n",
    "        \n",
    "        # Build program\n",
    "        glLinkProgram(self.program)\n",
    "        if not glGetProgramiv(self.program, GL_LINK_STATUS):\n",
    "            print(glGetProgramInfoLog(self.program))\n",
    "            raise RuntimeError('Linking error')\n",
    "            \n",
    "        # Delete shaders (we don't need them anymore after compile)\n",
    "        glDeleteShader(vertex);\n",
    "        glDeleteShader(fragment)\n",
    "    \n",
    "    def use(self):\n",
    "        glUseProgram(self.program)\n",
    "        \n",
    "        # Define the attributes mapping from buffer (stride = vertices.strides[0] = 12)\n",
    "        attr_loc = glGetAttribLocation(self.program, \"position\")\n",
    "        glEnableVertexAttribArray(attr_loc)\n",
    "        glVertexAttribPointer(attr_loc, 3, GL_FLOAT, False, 12, ctypes.c_void_p(0))\n",
    "        \n",
    "        # Define the uniforms in the shader\n",
    "        uniform_time_loc = glGetUniformLocation(self.program, \"u_time\");\n",
    "        glUniform1f(uniform_time_loc, uniform_time_value);\n",
    "        \n",
    "    def setFloat(self, name, value):\n",
    "        loc = glGetAttribLocation(program, name)\n",
    "        glUniform1f(loc, value)"
   ]
  },
  {
   "cell_type": "markdown",
   "id": "0ed51960",
   "metadata": {},
   "source": [
    "### Shader 01 - Background\n",
    "\n",
    "O primeiro componente do nosso desenho será o background que será constituido por 1 quadrado (2 triangulos) e terá um fragment shader que desenhará tons parecidos à um por do sol. \n",
    "\n",
    "Primeiro vamos definir o código dos nossos shaders e gerar seu programa"
   ]
  },
  {
   "cell_type": "code",
   "execution_count": 6,
   "id": "f9251059",
   "metadata": {},
   "outputs": [],
   "source": [
    "vertex_code = \"\"\"\n",
    "    attribute vec3 position;\n",
    "    varying   vec2 fPosition;\n",
    "    uniform   float u_time;\n",
    "    \n",
    "    void main(){ \n",
    "        gl_Position = vec4(position, 1.0);\n",
    "        fPosition   = gl_Position.xy;\n",
    "    }\n",
    "\"\"\"\n",
    "\n",
    "frag_code = \"\"\"\n",
    "    varying vec2 fPosition;\n",
    "    uniform   float u_time;\n",
    "    \n",
    "    void main(){\n",
    "        float pct = distance(vec2(-1.0, 0.0), fPosition)/ 2.0;\n",
    "        \n",
    "        pct += 0.1 * sin(u_time*10.0);\n",
    "        \n",
    "        \n",
    "        vec4 darkBlue    = vec4(0.058, 0.086, 0.223, 1.0);\n",
    "        vec4 lightOrange = vec4(0.905, 0.376, 0.227, 1.0);\n",
    "        \n",
    "        gl_FragColor = mix(lightOrange, darkBlue, pct);\n",
    "    }\n",
    "\"\"\"\n",
    "\n",
    "bg_shader = Shader(vertex_code, frag_code)"
   ]
  },
  {
   "cell_type": "markdown",
   "id": "4a083e2c",
   "metadata": {},
   "source": [
    "Agora vamos definir os vertices que irão ajudar a construir o background. Vamosp precisar de 4 pontos para desenhar o retângulo de fundo."
   ]
  },
  {
   "cell_type": "code",
   "execution_count": 7,
   "id": "6a45e85b",
   "metadata": {},
   "outputs": [],
   "source": [
    "bg_offset = len(vertices)\n",
    "bg_qtd_vertices = 4\n",
    "vertices += [\n",
    "    (-1.8,  1.0,  0.0),   # Left Top\n",
    "    (-1.0, -1.0,  0.0),   # Left Bottom\n",
    "    (1.0,   1.0,  0.0),   # Right Top\n",
    "    (1.0,  -1.0,  0.0)    # Right Bottom\n",
    "]"
   ]
  },
  {
   "cell_type": "markdown",
   "id": "41eb2e60",
   "metadata": {},
   "source": [
    "Por fim vamos definir a função que irá desenhar o background em cada iteração do loop"
   ]
  },
  {
   "cell_type": "code",
   "execution_count": 8,
   "id": "4dddb2c0",
   "metadata": {},
   "outputs": [],
   "source": [
    "def draw_background(vertices):\n",
    "    # Select the shader\n",
    "    bg_shader.use()\n",
    "    \n",
    "    # Draw objects\n",
    "    glDrawArrays(GL_TRIANGLE_STRIP, bg_offset, bg_qtd_vertices)"
   ]
  },
  {
   "cell_type": "markdown",
   "id": "8d1a51ea",
   "metadata": {},
   "source": [
    "### Shader 02 - Estrelas\n",
    "\n",
    "Para desenhar os pontos, vamos selecionar uma quantidade aleatória de pontos e desenha-los na tela."
   ]
  },
  {
   "cell_type": "code",
   "execution_count": 9,
   "id": "eb58a4ed",
   "metadata": {},
   "outputs": [],
   "source": [
    "vertex_code = \"\"\"\n",
    "    attribute vec3 position;\n",
    "    uniform   float u_time;\n",
    "    \n",
    "    void main(){ \n",
    "        float x =  (position.x + u_time + 1.0);\n",
    "        x       =  mod(x, 2.0);\n",
    "        x       -= 1.0;\n",
    "        gl_Position = vec4(x, position.yz, 1.0);\n",
    "    }\n",
    "\"\"\"\n",
    "\n",
    "frag_code = \"\"\"\n",
    "    void main(){\n",
    "        gl_FragColor = vec4(1.0, 1.0, 1.0, 1.0);\n",
    "    }\n",
    "\"\"\"\n",
    "\n",
    "star_shader = Shader(vertex_code, frag_code)"
   ]
  },
  {
   "cell_type": "code",
   "execution_count": 10,
   "id": "7ef1a798",
   "metadata": {},
   "outputs": [],
   "source": [
    "star_offset = len(vertices)\n",
    "star_qtd_vertices = 200\n",
    "\n",
    "for i in range(star_qtd_vertices):\n",
    "    x = np.random.uniform(-1.0,1.0)\n",
    "    y = np.random.uniform(-1.0,1.0)\n",
    "    vertices += [(x, y,  0.0)]"
   ]
  },
  {
   "cell_type": "code",
   "execution_count": 11,
   "id": "23c74098",
   "metadata": {},
   "outputs": [],
   "source": [
    "def draw_star(vertices):\n",
    "    # Select the shader\n",
    "    star_shader.use()\n",
    "    \n",
    "    # Draw objects\n",
    "    glDrawArrays(GL_POINTS, star_offset, star_qtd_vertices)"
   ]
  },
  {
   "cell_type": "markdown",
   "id": "90f8678f",
   "metadata": {},
   "source": [
    "### Shader 3 - Cometas\n",
    "\n",
    "Utilizando linhas brancas podemos simular cometas caindo de forma paralela. Para isso geramos diversas duplas de pontos de forma aleatória.\n",
    "\n",
    "Também utilizaremos a variavel z da posicao para indicar a velocidade de queda do meteoro :)"
   ]
  },
  {
   "cell_type": "code",
   "execution_count": 12,
   "id": "9cf045c2",
   "metadata": {},
   "outputs": [],
   "source": [
    "vertex_code = \"\"\"\n",
    "    attribute vec3 position;\n",
    "    uniform   float u_time;\n",
    "    \n",
    "    void main(){ \n",
    "    \n",
    "        vec2 xy =  (position.xy + vec2(position.z *u_time) + vec2(1.0));\n",
    "        xy =  mod(xy, 2.0);\n",
    "        xy -= vec2(1.0);\n",
    "    \n",
    "        gl_Position = vec4(xy, 0.0, 1.0);\n",
    "    }\n",
    "\"\"\"\n",
    "\n",
    "frag_code = \"\"\"\n",
    "    void main(){\n",
    "        gl_FragColor = vec4(1.0, 1.0, 1.0, 1.0);\n",
    "    }\n",
    "\"\"\"\n",
    "\n",
    "comet_shader = Shader(vertex_code, frag_code)"
   ]
  },
  {
   "cell_type": "code",
   "execution_count": 13,
   "id": "d312558b",
   "metadata": {},
   "outputs": [],
   "source": [
    "comet_offset = len(vertices)\n",
    "comet_qtd_vertices = 2 * 20\n",
    "\n",
    "for i in range(int(comet_qtd_vertices/2)):\n",
    "    x = np.random.uniform(-1.0,1.0)\n",
    "    y = np.random.uniform(-1.0,1.0)\n",
    "    dl = np.random.uniform(0.03,0.08)\n",
    "    vel = np.random.uniform(0.8,5.5)\n",
    "    \n",
    "    vertices += [(x, y,  vel), (x+dl, y+dl, vel)]"
   ]
  },
  {
   "cell_type": "code",
   "execution_count": 14,
   "id": "9aebdc0d",
   "metadata": {},
   "outputs": [],
   "source": [
    "def draw_comet(vertices):\n",
    "    # Select the shader\n",
    "    comet_shader.use()\n",
    "    \n",
    "    # Draw objects GL_LINE_STRIP, GL_LINE_LOOP\n",
    "    glDrawArrays(GL_LINES , comet_offset, comet_qtd_vertices)"
   ]
  },
  {
   "cell_type": "markdown",
   "id": "861fc303",
   "metadata": {},
   "source": [
    "### Shader 04 - Sol\n",
    "\n",
    "O segundo componente de nosso desenho será o sol, composto por uma composição de triangulos. Primeiros vamos gerar o seu círculo de form central para em seguida posicioná-lo onde desejamos."
   ]
  },
  {
   "cell_type": "code",
   "execution_count": 15,
   "id": "0d64c74a",
   "metadata": {},
   "outputs": [],
   "source": [
    "vertex_code = \"\"\"\n",
    "    attribute vec3 position;\n",
    "    varying   vec2 fPosition;\n",
    "    uniform   float u_time;\n",
    "    \n",
    "    void main(){ \n",
    "        gl_Position = vec4(position, 1.0);\n",
    "        fPosition   = gl_Position.xy;\n",
    "    }\n",
    "\"\"\"\n",
    "\n",
    "frag_code = \"\"\"\n",
    "    varying vec2 fPosition;\n",
    "    uniform   float u_time;\n",
    "    \n",
    "    void main(){\n",
    "        float pct = (fPosition.y + 1.0) / 2.0;\n",
    "        \n",
    "        vec4 yellow  = vec4(0.992, 0.914, 0.275, 1.0);\n",
    "        vec4 pink    = vec4(0.965, 0.408, 0.722, 1.0);\n",
    "        \n",
    "        gl_FragColor = mix(pink, yellow, pct);\n",
    "    }\n",
    "\"\"\"\n",
    "\n",
    "sun_shader = Shader(vertex_code, frag_code)"
   ]
  },
  {
   "cell_type": "code",
   "execution_count": 16,
   "id": "41d7582b",
   "metadata": {},
   "outputs": [],
   "source": [
    "def generate_circle_vertexes(N=64, center=(0,0), radius=1.0):\n",
    "    circle_points = []\n",
    "    for i in range(0, N): \n",
    "        x = center[0] + radius * np.cos(2*i*np.pi/N)\n",
    "        y = center[1] + radius * np.sin(2*i*np.pi/N)\n",
    "        circle_points += [(x, y, 0.0)]\n",
    "    return circle_points\n",
    "\n",
    "sun_offset       = len(vertices)\n",
    "sun_qtd_vertices = 64\n",
    "vertices += generate_circle_vertexes(sun_qtd_vertices, center=(-0.8, 0.0), radius=0.6)"
   ]
  },
  {
   "cell_type": "code",
   "execution_count": 17,
   "id": "1407662d",
   "metadata": {},
   "outputs": [],
   "source": [
    "def draw_sun(vertices):\n",
    "    # Select the shader\n",
    "    sun_shader.use()\n",
    "    \n",
    "    # Draw objects\n",
    "    glDrawArrays(GL_TRIANGLE_FAN, sun_offset, sun_qtd_vertices)"
   ]
  },
  {
   "cell_type": "markdown",
   "id": "dcd2453b",
   "metadata": {},
   "source": [
    "### Iniciando o Programa e suas variáveis\n",
    "\n",
    "A primeira coisa que precisamos fazer é iniciar o buffer e enviar os vértices para a GPU"
   ]
  },
  {
   "cell_type": "code",
   "execution_count": 18,
   "id": "646d10fc",
   "metadata": {},
   "outputs": [],
   "source": [
    "# Convertendo para numpy array\n",
    "vertices = np.array(vertices, dtype=np.float32)"
   ]
  },
  {
   "cell_type": "code",
   "execution_count": 19,
   "id": "9b7b9582",
   "metadata": {},
   "outputs": [],
   "source": [
    "# Gerando um Buffer para o Array de vértices\n",
    "buffer = glGenBuffers(1)\n",
    "glBindBuffer(GL_ARRAY_BUFFER, buffer)\n",
    "\n",
    "# Enviando os dados definindo o buffer como estatico, pois não pretendemos a\n",
    "# posição dos vértices iniciais (GL_DYNAMIC_DRAW | GL_STATIC_DRAW)\n",
    "glBufferData(GL_ARRAY_BUFFER, vertices.nbytes, vertices, GL_STATIC_DRAW)"
   ]
  },
  {
   "cell_type": "code",
   "execution_count": 20,
   "id": "9ed5125f",
   "metadata": {},
   "outputs": [],
   "source": [
    "glfw.show_window(window)\n",
    "while not glfw.window_should_close(window):\n",
    "    glfw.poll_events() \n",
    "    \n",
    "    # Reset the screen with the white color\n",
    "    glClear(GL_COLOR_BUFFER_BIT) \n",
    "    glClearColor(1.0, 1.0, 1.0, 1.0)\n",
    "    \n",
    "    # Draw objects\n",
    "    draw_background(vertices)\n",
    "    draw_star(vertices)\n",
    "    draw_comet(vertices)\n",
    "    draw_sun(vertices)\n",
    "    \n",
    "    # Update uniform time\n",
    "    uniform_time_value += 0.00005\n",
    "    \n",
    "    glfw.swap_buffers(window)\n",
    "glfw.terminate()"
   ]
  },
  {
   "cell_type": "markdown",
   "id": "a2c63f4e",
   "metadata": {},
   "source": [
    "Por fim, conseguimos a imagem baseada em um planeta visto do espaço, com estrelas e cometas passando de fundo e um background que simula a luz emitida pela estrela. Como utilizamos o uniform `u_time` obtemos também alguns efeitos animados."
   ]
  },
  {
   "attachments": {
    "exercicio_01.png": {
     "image/png": "[encoded data removed]"
    }
   },
   "cell_type": "markdown",
   "id": "584f2dd3",
   "metadata": {},
   "source": [
    "![exercicio_01.png](attachment:exercicio_01.png)"
   ]
  }
 ],
 "metadata": {
  "kernelspec": {
   "display_name": "Python 3",
   "language": "python",
   "name": "python3"
  },
  "language_info": {
   "codemirror_mode": {
    "name": "ipython",
    "version": 3
   },
   "file_extension": ".py",
   "mimetype": "text/x-python",
   "name": "python",
   "nbconvert_exporter": "python",
   "pygments_lexer": "ipython3",
   "version": "3.8.5"
  }
 },
 "nbformat": 4,
 "nbformat_minor": 5
}
