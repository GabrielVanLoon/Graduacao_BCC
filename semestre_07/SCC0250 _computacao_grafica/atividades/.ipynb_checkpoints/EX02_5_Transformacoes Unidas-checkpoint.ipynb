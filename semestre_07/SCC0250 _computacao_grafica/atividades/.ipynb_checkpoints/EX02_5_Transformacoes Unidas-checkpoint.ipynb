{
 "cells": [
  {
   "cell_type": "markdown",
   "id": "a0324e34",
   "metadata": {},
   "source": [
    "# Exercício Prático 02.1 - Transformando Escala\n",
    "\n",
    "- **Author:** Gabriel Van Loon\n",
    "- **Data:** Abril/2021\n",
    "- **Objetivo:** Faça um programa que desenhe um objeto de sua preferência e aplique as três transformações geométricas (translação, rotação e escala) a partir de eventos de teclado e mouse (de sua preferência), conforme o seguinte:\n",
    "    - **Observação:** Construa uma única matriz de transformação a partir da multiplicação das matrizes anteriores.\n",
    "\n",
    "        \n",
    "    - AWSD: Translação do objeto\n",
    "    - Left/Right Click do mouse: Upscalling\n",
    "    - Left/Right Arrow: Rotacionar Objeto"
   ]
  },
  {
   "cell_type": "code",
   "execution_count": 1,
   "id": "18168c82",
   "metadata": {},
   "outputs": [],
   "source": [
    "import glfw\n",
    "from OpenGL.GL import *\n",
    "import OpenGL.GL.shaders\n",
    "import numpy as np"
   ]
  },
  {
   "cell_type": "code",
   "execution_count": 2,
   "id": "a48bcd20",
   "metadata": {},
   "outputs": [],
   "source": [
    "WINDOW_WIDTH = 600\n",
    "WINDOW_HEIGHT = 600\n",
    "vertices = []"
   ]
  },
  {
   "cell_type": "markdown",
   "id": "6d3487ed",
   "metadata": {},
   "source": [
    "Declarando os uniforms utilizados nas rotações"
   ]
  },
  {
   "cell_type": "code",
   "execution_count": 3,
   "id": "f38bf709",
   "metadata": {},
   "outputs": [],
   "source": [
    "uniform_upscale   = 1.0\n",
    "uniform_rotate    = 0.0\n",
    "uniform_translate = [0.0, 0.0] "
   ]
  },
  {
   "cell_type": "markdown",
   "id": "38b257f7",
   "metadata": {},
   "source": [
    "### Funções para definição de Janelas\n",
    "\n",
    "Encapsula as funções que criam a única e principal janela do programa."
   ]
  },
  {
   "cell_type": "code",
   "execution_count": 4,
   "id": "fe96a32b",
   "metadata": {},
   "outputs": [],
   "source": [
    "def configure_window():\n",
    "    glfw.init()\n",
    "    glfw.window_hint(glfw.VISIBLE, glfw.FALSE)\n",
    "    glfw.window_hint(glfw.RESIZABLE, glfw.FALSE)\n",
    "    window = glfw.create_window(WINDOW_WIDTH, WINDOW_HEIGHT, \"Computer Graphics 101\", None, None)\n",
    "    glfw.make_context_current(window)\n",
    "    return window\n",
    "\n",
    "# Starting window\n",
    "window = configure_window()"
   ]
  },
  {
   "cell_type": "markdown",
   "id": "d7fb38f8",
   "metadata": {},
   "source": [
    "### Classe para Criação de Shaders\n",
    "\n",
    "Encapsula as funções que permitem criar e utilizar um determinado shader"
   ]
  },
  {
   "cell_type": "code",
   "execution_count": 5,
   "id": "905a223b",
   "metadata": {},
   "outputs": [],
   "source": [
    "class Shader:\n",
    "    def __init__(self, vertex_code = \"\", fragment_code = \"\"):\n",
    "        self.program = glCreateProgram()\n",
    "        \n",
    "        # Create the vertex and shader program\n",
    "        vertex   = glCreateShader(GL_VERTEX_SHADER)\n",
    "        fragment = glCreateShader(GL_FRAGMENT_SHADER)\n",
    "        \n",
    "        # Set shaders sources code\n",
    "        glShaderSource(vertex, vertex_code)\n",
    "        glShaderSource(fragment, fragment_code)\n",
    "        \n",
    "        # Compiling vertex shader\n",
    "        glCompileShader(vertex)\n",
    "        if not glGetShaderiv(vertex, GL_COMPILE_STATUS):\n",
    "            error = glGetShaderInfoLog(vertex).decode()\n",
    "            print(error)\n",
    "            raise RuntimeError(\"Erro de compilacao do Vertex Shader\")\n",
    "        \n",
    "        # Compile fragment shader\n",
    "        glCompileShader(fragment)\n",
    "        if not glGetShaderiv(fragment, GL_COMPILE_STATUS):\n",
    "            error = glGetShaderInfoLog(fragment).decode()\n",
    "            print(error)\n",
    "            raise RuntimeError(\"Erro de compilacao do Fragment Shader\")\n",
    "            \n",
    "        # If success atach the compiled codes to the program\n",
    "        glAttachShader(self.program, vertex)\n",
    "        glAttachShader(self.program, fragment)\n",
    "        \n",
    "        # Build program\n",
    "        glLinkProgram(self.program)\n",
    "        if not glGetProgramiv(self.program, GL_LINK_STATUS):\n",
    "            print(glGetProgramInfoLog(self.program))\n",
    "            raise RuntimeError('Linking error')\n",
    "            \n",
    "        # Delete shaders (we don't need them anymore after compile)\n",
    "        glDeleteShader(vertex);\n",
    "        glDeleteShader(fragment)\n",
    "    \n",
    "    def use(self):\n",
    "        glUseProgram(self.program)\n",
    "        \n",
    "        # Define the attributes mapping from buffer (stride = vertices.strides[0] = 12)\n",
    "        attr_loc = glGetAttribLocation(self.program, \"position\")\n",
    "        glEnableVertexAttribArray(attr_loc)\n",
    "        glVertexAttribPointer(attr_loc, 3, GL_FLOAT, False, 12, ctypes.c_void_p(0))\n",
    "        \n",
    "        # Define the uniforms in the shader\n",
    "        loc = glGetUniformLocation(self.program, \"u_upscale\");\n",
    "        glUniform1f(loc, uniform_upscale);\n",
    "        \n",
    "        loc = glGetUniformLocation(self.program, \"u_rotate\");\n",
    "        glUniform1f(loc, uniform_rotate);\n",
    "        \n",
    "        loc = glGetUniformLocation(self.program, \"u_translate\");\n",
    "        glUniform2f(loc, uniform_translate[0], uniform_translate[1]);\n",
    "        \n",
    "    def setFloat(self, name, value):\n",
    "        loc = glGetAttribLocation(program, name)\n",
    "        glUniform1f(loc, value)"
   ]
  },
  {
   "cell_type": "markdown",
   "id": "6afc552a",
   "metadata": {},
   "source": [
    "### Shader 1 - Triangulo"
   ]
  },
  {
   "cell_type": "code",
   "execution_count": 6,
   "id": "f145e695",
   "metadata": {},
   "outputs": [],
   "source": [
    "uniform_upscale   = 1.0\n",
    "uniform_rotate    = 0.0\n",
    "uniform_translate = [0.0, 0.0] \n",
    "\n",
    "\n",
    "vertex_code = \"\"\"\n",
    "    attribute vec3 position;\n",
    "    varying   vec3 fPosition;\n",
    "    \n",
    "    uniform float u_upscale;\n",
    "    uniform float u_rotate;\n",
    "    uniform vec2  u_translate;\n",
    "    \n",
    "    void main(){ \n",
    "       // Upscaling \n",
    "       //mat4 upscale_matrix = mat4(\n",
    "       //    u_upscale, 0.0, 0.0, 0.0,   // first column\n",
    "       //    0.0, u_upscale, 0.0, 0.0,   // second column        \n",
    "       //    0.0, 0.0, u_upscale, 0.0,   \n",
    "       //    0.0, 0.0, 0.0,       1.0\n",
    "       //);\n",
    "       \n",
    "       // Rotate\n",
    "       //mat4 rotate_matrix = mat4(\n",
    "       //    cos(u_rotate),  sin(u_rotate), 0.0, 0.0,   // first column\n",
    "       //    -sin(u_rotate), cos(u_rotate), 0.0, 0.0,   // second column\n",
    "       //    0.0, 0.0, 1.0, 0.0,                        // last column\n",
    "       //    0.0, 0.0, 0.0, 1.0\n",
    "       //);\n",
    "       \n",
    "       // Translate\n",
    "       //mat4 translate_matrix = mat4(\n",
    "       //    1.0, 0.0, 0.0, 0.0,   \n",
    "       //    0.0, 1.0, 0.0, 0.0,\n",
    "       //    0.0, 0.0, 1.0, 0.0,\n",
    "       //    u_translate.x, u_translate.y, 1.0, 1.0\n",
    "       //);\n",
    "       \n",
    "       // Final Matrix (Translate * Rotate * Upscale)\n",
    "       mat4 transform_matrix = mat4(\n",
    "            u_upscale * cos(u_rotate),  u_upscale * sin(u_rotate), 0.0, 0.0,\n",
    "            u_upscale * -sin(u_rotate), u_upscale * cos(u_rotate), 0.0, 0.0,\n",
    "            0.0, 0.0, u_upscale, 0.0,   \n",
    "            u_translate.x, u_translate.y, 1.0, 1.0\n",
    "       );\n",
    "       \n",
    "       // Aplying transformations (Upscale + Rotate + Translate)\n",
    "       vec4 coord =  vec4(position.xy, 0.0, 1.0);\n",
    "       // coord  =  upscale_matrix * coord;\n",
    "       // coord  =  rotate_matrix * coord;\n",
    "       //coord   =  translate_matrix * coord;\n",
    "       \n",
    "       gl_Position = transform_matrix * coord;\n",
    "       fPosition   = gl_Position.xyz;\n",
    "    }\n",
    "\"\"\"\n",
    "\n",
    "frag_code = \"\"\"\n",
    "    varying vec3 fPosition;\n",
    "    \n",
    "    void main(){\n",
    "        // vec3 pattern = fPosition * 10.0;\n",
    "        // gl_FragColor = vec4( vec3( distance(vec2(0.0), fract(pattern))), 1.0);\n",
    "        gl_FragColor  = vec4(fPosition, 1.0);\n",
    "    }\n",
    "\"\"\"\n",
    "\n",
    "triangle_shader = Shader(vertex_code, frag_code)"
   ]
  },
  {
   "cell_type": "code",
   "execution_count": 7,
   "id": "02a9ba4c",
   "metadata": {},
   "outputs": [],
   "source": [
    "triangle_offset = len(vertices)\n",
    "triangle_qtd_vertices = 3\n",
    "vertices += [\n",
    "    (-0.5, -0.5,  0.0),   # Left Top\n",
    "    (+0.5, -0.5,  0.0),   # Left Bottom\n",
    "    ( 0.0,  0.5,  0.0),   # Right Top\n",
    "]"
   ]
  },
  {
   "cell_type": "code",
   "execution_count": 8,
   "id": "0816f422",
   "metadata": {},
   "outputs": [],
   "source": [
    "def draw_triangle(vertices):\n",
    "    # Select the shader\n",
    "    triangle_shader.use()\n",
    "    \n",
    "    # Draw objects\n",
    "    glDrawArrays(GL_TRIANGLE_STRIP, triangle_offset, triangle_qtd_vertices)"
   ]
  },
  {
   "cell_type": "markdown",
   "id": "bea03981",
   "metadata": {},
   "source": [
    "### Capturando Eventos do Teclado e Mouse\n",
    "\n",
    "- **Mouse button references:** https://www.glfw.org/docs/latest/group__buttons.html\n",
    "- **Keyboard button references:** https://www.glfw.org/docs/latest/group__keys.html\n",
    "- **Modifiers: https://www.glfw.org/docs/latest/group__mods.html"
   ]
  },
  {
   "cell_type": "code",
   "execution_count": 9,
   "id": "c483dd98",
   "metadata": {},
   "outputs": [],
   "source": [
    "# uniform_upscale   = 0.0\n",
    "# uniform_rotate    = 0.0\n",
    "# uniform_translate = [0.0, 0.0] \n",
    "\n",
    "def key_event(window, key, scancode, action, mods):\n",
    "    \n",
    "    global uniform_upscale, uniform_rotate, uniform_translate\n",
    "\n",
    "    if key == glfw.KEY_LEFT and action == 1:\n",
    "        uniform_rotate += 0.05\n",
    "    if key == glfw.KEY_RIGHT and action == 1:\n",
    "        uniform_rotate -= 0.05\n",
    "        \n",
    "    if key == glfw.KEY_W and action == 1:\n",
    "        uniform_translate[1] += 0.05\n",
    "    if key == glfw.KEY_S and action == 1:\n",
    "        uniform_translate[1] -= 0.05\n",
    "    if key == glfw.KEY_A and action == 1:\n",
    "        uniform_translate[0] -= 0.05\n",
    "    if key == glfw.KEY_D and action == 1:\n",
    "        uniform_translate[0] += 0.05\n",
    "\n",
    "def mouse_event(window, button, action, mods):\n",
    "    global uniform_upscale, uniform_rotate, uniform_translate\n",
    "    \n",
    "    if button == glfw.MOUSE_BUTTON_LEFT and action == 1:\n",
    "        uniform_upscale += 0.05\n",
    "    elif button == glfw.MOUSE_BUTTON_RIGHT and action == 1:\n",
    "        uniform_upscale -= 0.05\n",
    "        \n",
    "    \n",
    "glfw.set_key_callback(window, key_event)\n",
    "glfw.set_mouse_button_callback(window, mouse_event)"
   ]
  },
  {
   "cell_type": "markdown",
   "id": "946a981b",
   "metadata": {},
   "source": [
    "### Iniciando o Programa e suas variáveis\n",
    "\n",
    "A primeira coisa que precisamos fazer é iniciar o buffer e enviar os vértices para a GPU"
   ]
  },
  {
   "cell_type": "code",
   "execution_count": 10,
   "id": "0aa1937c",
   "metadata": {},
   "outputs": [],
   "source": [
    "# Convertendo para numpy array\n",
    "vertices = np.array(vertices, dtype=np.float32)"
   ]
  },
  {
   "cell_type": "code",
   "execution_count": 11,
   "id": "85e04fa9",
   "metadata": {},
   "outputs": [],
   "source": [
    "# Gerando um Buffer para o Array de vértices\n",
    "buffer = glGenBuffers(1)\n",
    "glBindBuffer(GL_ARRAY_BUFFER, buffer)\n",
    "\n",
    "# Enviando os dados definindo o buffer como estatico, pois não pretendemos a\n",
    "# posição dos vértices iniciais (GL_DYNAMIC_DRAW | GL_STATIC_DRAW)\n",
    "glBufferData(GL_ARRAY_BUFFER, vertices.nbytes, vertices, GL_STATIC_DRAW)"
   ]
  },
  {
   "cell_type": "code",
   "execution_count": 12,
   "id": "4dfe31d7",
   "metadata": {},
   "outputs": [],
   "source": [
    "glfw.show_window(window)\n",
    "while not glfw.window_should_close(window):\n",
    "    glfw.poll_events() \n",
    "    \n",
    "    # Reset the screen with the white color\n",
    "    glClear(GL_COLOR_BUFFER_BIT) \n",
    "    glClearColor(1.0, 1.0, 1.0, 1.0)\n",
    "    \n",
    "    # Draw objects\n",
    "    draw_triangle(vertices)\n",
    "    \n",
    "    glfw.swap_buffers(window)\n",
    "glfw.terminate()"
   ]
  },
  {
   "cell_type": "markdown",
   "id": "9e259d9c",
   "metadata": {},
   "source": [
    "### Referencias de matrizes\n",
    "\n",
    "A seguir apenas um referencial de como montar as matrizes de transformação"
   ]
  },
  {
   "cell_type": "markdown",
   "id": "344f14ae",
   "metadata": {},
   "source": [
    "#### a) Matriz de Translação 2D (z = 0)\n",
    "\n",
    "$$\n",
    "\\begin{pmatrix}\n",
    "x_f \\\\ y_f \\\\ z_f \\\\ h_f \\\\\n",
    "\\end{pmatrix} \n",
    "= \n",
    "\\begin{pmatrix}\n",
    "1 & 0 & 0 & t_x \\\\\n",
    "0 & 1 & 0 & t_y \\\\\n",
    "0 & 0 & 1 & t_z\\\\\n",
    "0 & 0 & 0 &1 \\\\\n",
    "\\end{pmatrix} \n",
    "*\n",
    "\\begin{pmatrix}\n",
    "x_0 \\\\ y_0 \\\\ z_0 \\\\ h_0 \\\\\n",
    "\\end{pmatrix} \n",
    "$$"
   ]
  },
  {
   "cell_type": "markdown",
   "id": "701b9257",
   "metadata": {},
   "source": [
    "#### b) Matriz de Escala 2D (z=0)\n",
    "\n",
    "$$\n",
    "\\begin{pmatrix}\n",
    "x_f \\\\ y_f \\\\ z_f \\\\ 1\n",
    "\\end{pmatrix} \n",
    "= \n",
    "\\begin{pmatrix}\n",
    "s_x & 0 & 0 & 0  \\\\\n",
    "0   & s_y & 0 & 0\\\\\n",
    "0   & 0 & s_z & 0\\\\\n",
    "0   & 0 & 0 & 1 \\\\\n",
    "\\end{pmatrix} \n",
    "*\n",
    "\\begin{pmatrix}\n",
    "x_0 \\\\ y_0 \\\\ z_0 \\\\ 1\n",
    "\\end{pmatrix} \n",
    "$$"
   ]
  },
  {
   "cell_type": "markdown",
   "id": "d50dd655",
   "metadata": {},
   "source": [
    "#### c) Matriz de Rotação 2D (z=0)\n",
    "\n",
    "$$\n",
    "\\begin{pmatrix}\n",
    "x_f \\\\ y_f \\\\ z_f \\\\ 1\n",
    "\\end{pmatrix} \n",
    "= \n",
    "\\begin{pmatrix}\n",
    "\\cos(\\theta) & -\\sin(\\theta) & 0 & 0\\\\\n",
    "\\sin(\\theta) & \\cos(\\theta) & 0  & 0\\\\\n",
    "0 & 0 & 1 & 0 \\\\\n",
    "0 & 0 & 0 & 1 \\\\\n",
    "\\end{pmatrix} \n",
    "*\n",
    "\\begin{pmatrix}\n",
    "x_0 \\\\ y_0 \\\\ z_0 \\\\ 1\n",
    "\\end{pmatrix} \n",
    "$$"
   ]
  },
  {
   "cell_type": "markdown",
   "id": "c9e26b29",
   "metadata": {},
   "source": [
    "#### Final Transformation Matrix\n",
    "\n",
    "\n",
    "$$\n",
    "\\begin{pmatrix}\n",
    "x_f \\\\ y_f \\\\ z_f \\\\ h_f \\\\\n",
    "\\end{pmatrix} \n",
    "= \n",
    "\\begin{pmatrix}\n",
    "s_x*\\cos(\\theta) & s_y*-\\sin(\\theta) & 0 & t_x\\\\\n",
    "s_x*\\sin(\\theta) & s_y*\\cos(\\theta)  & 0 & t_y\\\\\n",
    "0 & 0 & s_z & t_z\\\\\n",
    "0 & 0 & 0 &1 \\\\\n",
    "\\end{pmatrix} \n",
    "*\n",
    "\\begin{pmatrix}\n",
    "x_0 \\\\ y_0 \\\\ z_0 \\\\ h_0 \\\\\n",
    "\\end{pmatrix} \n",
    "$$"
   ]
  },
  {
   "cell_type": "code",
   "execution_count": null,
   "id": "8d76cb78",
   "metadata": {},
   "outputs": [],
   "source": []
  }
 ],
 "metadata": {
  "kernelspec": {
   "display_name": "Python 3",
   "language": "python",
   "name": "python3"
  },
  "language_info": {
   "codemirror_mode": {
    "name": "ipython",
    "version": 3
   },
   "file_extension": ".py",
   "mimetype": "text/x-python",
   "name": "python",
   "nbconvert_exporter": "python",
   "pygments_lexer": "ipython3",
   "version": "3.8.5"
  }
 },
 "nbformat": 4,
 "nbformat_minor": 5
}
